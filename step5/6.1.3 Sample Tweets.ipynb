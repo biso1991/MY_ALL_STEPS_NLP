{
 "cells": [
  {
   "cell_type": "code",
   "execution_count": 8,
   "metadata": {},
   "outputs": [],
   "source": [
    "import os\n",
    "import tweepy as tw\n",
    "import pandas as pd"
   ]
  },
  {
   "cell_type": "code",
   "execution_count": 9,
   "metadata": {},
   "outputs": [],
   "source": [
    "consumer_key = \"--\"\n",
    "consumer_secret = \"--\"\n",
    "access_token = \"--\"\n",
    "access_token_secret = \"--\""
   ]
  },
  {
   "cell_type": "code",
   "execution_count": 10,
   "metadata": {},
   "outputs": [],
   "source": [
    "auth = tw.OAuthHandler(consumer_key, consumer_secret)\n",
    "auth.set_access_token(access_token, access_token_secret)\n",
    "api = tw.API(auth, wait_on_rate_limit=True)"
   ]
  },
  {
   "cell_type": "code",
   "execution_count": 11,
   "metadata": {},
   "outputs": [],
   "source": [
    "search_words = \"#euro2020\"\n",
    "date_since = \"2021-01-01\""
   ]
  },
  {
   "cell_type": "code",
   "execution_count": 21,
   "metadata": {},
   "outputs": [],
   "source": [
    "tweets = tw.Cursor(api.search,\n",
    "              q=search_words,\n",
    "              lang=\"en\",\n",
    "              since=date_since).items(5)"
   ]
  },
  {
   "cell_type": "code",
   "execution_count": 22,
   "metadata": {},
   "outputs": [
    {
     "name": "stdout",
     "output_type": "stream",
     "text": [
      "Tweets is :    Betvictor Money Back at The Euros\n",
      "Get A £30 Risk-Free Bet\n",
      "\n",
      "New Customers\n",
      "1. Place your first bet on The Euros marke… https://t.co/owM4oSABVJ\n",
      "Username is :    BookieOffers728\n",
      "Location is :    United Kingdom\n",
      "----------------------------------------\n",
      "Tweets is :    Betvictor Money Back at The Euros\n",
      "Get A £30 Risk-Free Bet\n",
      "\n",
      "New Customers\n",
      "1. Place your first bet on The Euros marke… https://t.co/uHaDHponba\n",
      "Username is :    BettingOffers7\n",
      "Location is :    United Kingdom\n",
      "----------------------------------------\n",
      "Tweets is :    Betvictor Money Back at The Euros\n",
      "Get A £30 Risk-Free Bet\n",
      "\n",
      "New Customers\n",
      "1. Place your first bet on The Euros marke… https://t.co/7EDO5y5nq0\n",
      "Username is :    Betting_Offers2\n",
      "Location is :    North East, England\n",
      "----------------------------------------\n",
      "Tweets is :    RT @ChelseaFC: Suited and booted. 👞\n",
      "\n",
      "#Euro2020 | #ITA https://t.co/pJWELb7nkV\n",
      "Username is :    mallamgandhi\n",
      "Location is :    \n",
      "----------------------------------------\n",
      "Tweets is :    RT @exopredict: @EURO2020 @vivo_europe &lt;DON'T FIGHT THE FEELING&gt; by EXO @weareoneEXO \n",
      "@EURO2020 @vivo_europe #EURO2020 https://t.co/JjsvZgF…\n",
      "Username is :    EXU_LOVES\n",
      "Location is :    EXO PLANET\n",
      "----------------------------------------\n"
     ]
    }
   ],
   "source": [
    "for tweet in tweets:\n",
    "    print(f'Tweets is :    {tweet.text}')\n",
    "    print(f'Username is :    {tweet.user.screen_name}')\n",
    "    print(f'Location is :    {tweet.user.location}')\n",
    "    print('----------------------------------------')"
   ]
  },
  {
   "cell_type": "code",
   "execution_count": 25,
   "metadata": {},
   "outputs": [
    {
     "data": {
      "text/html": [
       "<div>\n",
       "<style scoped>\n",
       "    .dataframe tbody tr th:only-of-type {\n",
       "        vertical-align: middle;\n",
       "    }\n",
       "\n",
       "    .dataframe tbody tr th {\n",
       "        vertical-align: top;\n",
       "    }\n",
       "\n",
       "    .dataframe thead th {\n",
       "        text-align: right;\n",
       "    }\n",
       "</style>\n",
       "<table border=\"1\" class=\"dataframe\">\n",
       "  <thead>\n",
       "    <tr style=\"text-align: right;\">\n",
       "      <th></th>\n",
       "      <th>tweet</th>\n",
       "      <th>user</th>\n",
       "      <th>location</th>\n",
       "    </tr>\n",
       "  </thead>\n",
       "  <tbody>\n",
       "    <tr>\n",
       "      <th>0</th>\n",
       "      <td>RT @LFC: 𝑮𝑶𝑨𝑳 𝑹𝑼𝑺𝑯 ⚽⚽⚽⚽\\n\\nAhead of our two We...</td>\n",
       "      <td>DoSheldon1967</td>\n",
       "      <td>The Cloud</td>\n",
       "    </tr>\n",
       "    <tr>\n",
       "      <th>1</th>\n",
       "      <td>RT @secretshirtco: If #ITA progress to the Qua...</td>\n",
       "      <td>Pop_Ionut953</td>\n",
       "      <td></td>\n",
       "    </tr>\n",
       "    <tr>\n",
       "      <th>2</th>\n",
       "      <td>RT @EURO2020: 🇮🇹🆚🇦🇹 Who are you backing?  \\n\\n...</td>\n",
       "      <td>AnthonyKimaniJr</td>\n",
       "      <td>Nairobi, Kenya.</td>\n",
       "    </tr>\n",
       "    <tr>\n",
       "      <th>3</th>\n",
       "      <td>RT @ChelseaFC: Suited and booted. 👞\\n\\n#Euro20...</td>\n",
       "      <td>Alhassa83518932</td>\n",
       "      <td>Upper West, Ghana</td>\n",
       "    </tr>\n",
       "    <tr>\n",
       "      <th>4</th>\n",
       "      <td>RT @exopredict: @EURO2020 @vivo_europe &amp;lt;DON...</td>\n",
       "      <td>temannyauco</td>\n",
       "      <td></td>\n",
       "    </tr>\n",
       "  </tbody>\n",
       "</table>\n",
       "</div>"
      ],
      "text/plain": [
       "                                               tweet             user  \\\n",
       "0  RT @LFC: 𝑮𝑶𝑨𝑳 𝑹𝑼𝑺𝑯 ⚽⚽⚽⚽\\n\\nAhead of our two We...    DoSheldon1967   \n",
       "1  RT @secretshirtco: If #ITA progress to the Qua...     Pop_Ionut953   \n",
       "2  RT @EURO2020: 🇮🇹🆚🇦🇹 Who are you backing?  \\n\\n...  AnthonyKimaniJr   \n",
       "3  RT @ChelseaFC: Suited and booted. 👞\\n\\n#Euro20...  Alhassa83518932   \n",
       "4  RT @exopredict: @EURO2020 @vivo_europe &lt;DON...      temannyauco   \n",
       "\n",
       "            location  \n",
       "0          The Cloud  \n",
       "1                     \n",
       "2   Nairobi, Kenya.   \n",
       "3  Upper West, Ghana  \n",
       "4                     "
      ]
     },
     "execution_count": 25,
     "metadata": {},
     "output_type": "execute_result"
    }
   ],
   "source": [
    "tweets = tw.Cursor(api.search,q=search_words,lang=\"en\",\n",
    "                           since=date_since).items(5)\n",
    "\n",
    "users_locs = [[tweet.text,tweet.user.screen_name, tweet.user.location] for tweet in tweets]\n",
    "tweet_text = pd.DataFrame(data=users_locs, \n",
    "                    columns=['tweet','user', \"location\"])\n",
    "tweet_text.head()"
   ]
  },
  {
   "cell_type": "code",
   "execution_count": null,
   "metadata": {},
   "outputs": [],
   "source": [
    "tweet_text.to_csv('1.csv')"
   ]
  }
 ],
 "metadata": {
  "kernelspec": {
   "display_name": "Python 3",
   "language": "python",
   "name": "python3"
  },
  "language_info": {
   "codemirror_mode": {
    "name": "ipython",
    "version": 3
   },
   "file_extension": ".py",
   "mimetype": "text/x-python",
   "name": "python",
   "nbconvert_exporter": "python",
   "pygments_lexer": "ipython3",
   "version": "3.7.6"
  }
 },
 "nbformat": 4,
 "nbformat_minor": 4
}
