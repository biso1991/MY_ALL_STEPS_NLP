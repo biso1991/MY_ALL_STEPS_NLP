{
 "cells": [
  {
   "cell_type": "markdown",
   "metadata": {},
   "source": [
    "Original Notebook\n",
    "\n",
    "https://www.kaggle.com/alincijov/continuous-bag-of-words-cbow-numpy-for-beginners"
   ]
  },
  {
   "cell_type": "markdown",
   "metadata": {},
   "source": [
    "### Imports"
   ]
  },
  {
   "cell_type": "code",
   "execution_count": 1,
   "metadata": {},
   "outputs": [],
   "source": [
    "import re\n",
    "import numpy as np\n",
    "import matplotlib.pyplot as plt"
   ]
  },
  {
   "cell_type": "markdown",
   "metadata": {},
   "source": [
    "### Data"
   ]
  },
  {
   "cell_type": "code",
   "execution_count": 2,
   "metadata": {},
   "outputs": [],
   "source": [
    "sentences = \"\"\"We are about to study the idea of a computational process.\n",
    "Computational processes are abstract beings that inhabit computers.\n",
    "As they evolve, processes manipulate other abstract things called data.\n",
    "The evolution of a process is directed by a pattern of rules\n",
    "called a program. People create programs to direct processes. In effect,\n",
    "we conjure the spirits of the computer with our spells.\"\"\""
   ]
  },
  {
   "cell_type": "markdown",
   "metadata": {},
   "source": [
    "### Clean Data"
   ]
  },
  {
   "cell_type": "code",
   "execution_count": 4,
   "metadata": {},
   "outputs": [
    {
     "data": {
      "text/plain": [
       "'We are about to study the idea of a computational process Computational processes are abstract beings that inhabit computers As they evolve processes manipulate other abstract things called data The evolution of a process is directed by a pattern of rules called a program People create programs to direct processes In effect we conjure the spirits of the computer with our spells '"
      ]
     },
     "execution_count": 4,
     "metadata": {},
     "output_type": "execute_result"
    }
   ],
   "source": [
    "# remove special characters\n",
    "sentences = re.sub('[^A-Za-z0-9]+', ' ', sentences)\n",
    "sentences"
   ]
  },
  {
   "cell_type": "code",
   "execution_count": 5,
   "metadata": {},
   "outputs": [
    {
     "data": {
      "text/plain": [
       "'We are about to study the idea of computational process Computational processes are abstract beings that inhabit computers As they evolve processes manipulate other abstract things called data The evolution of process is directed by pattern of rules called program People create programs to direct processes In effect we conjure the spirits of the computer with our spells'"
      ]
     },
     "execution_count": 5,
     "metadata": {},
     "output_type": "execute_result"
    }
   ],
   "source": [
    "# remove 1 letter words\n",
    "sentences = re.sub(r'(?:^| )\\w(?:$| )', ' ', sentences).strip()\n",
    "sentences"
   ]
  },
  {
   "cell_type": "code",
   "execution_count": 7,
   "metadata": {},
   "outputs": [
    {
     "data": {
      "text/plain": [
       "'we are about to study the idea of computational process computational processes are abstract beings that inhabit computers as they evolve processes manipulate other abstract things called data the evolution of process is directed by pattern of rules called program people create programs to direct processes in effect we conjure the spirits of the computer with our spells'"
      ]
     },
     "execution_count": 7,
     "metadata": {},
     "output_type": "execute_result"
    }
   ],
   "source": [
    "# lower all characters\n",
    "sentences = sentences.lower()\n",
    "sentences"
   ]
  },
  {
   "cell_type": "markdown",
   "metadata": {},
   "source": [
    "### Vocabulary"
   ]
  },
  {
   "cell_type": "code",
   "execution_count": 8,
   "metadata": {},
   "outputs": [
    {
     "data": {
      "text/plain": [
       "['we',\n",
       " 'are',\n",
       " 'about',\n",
       " 'to',\n",
       " 'study',\n",
       " 'the',\n",
       " 'idea',\n",
       " 'of',\n",
       " 'computational',\n",
       " 'process',\n",
       " 'computational',\n",
       " 'processes',\n",
       " 'are',\n",
       " 'abstract',\n",
       " 'beings',\n",
       " 'that',\n",
       " 'inhabit',\n",
       " 'computers',\n",
       " 'as',\n",
       " 'they',\n",
       " 'evolve',\n",
       " 'processes',\n",
       " 'manipulate',\n",
       " 'other',\n",
       " 'abstract',\n",
       " 'things',\n",
       " 'called',\n",
       " 'data',\n",
       " 'the',\n",
       " 'evolution',\n",
       " 'of',\n",
       " 'process',\n",
       " 'is',\n",
       " 'directed',\n",
       " 'by',\n",
       " 'pattern',\n",
       " 'of',\n",
       " 'rules',\n",
       " 'called',\n",
       " 'program',\n",
       " 'people',\n",
       " 'create',\n",
       " 'programs',\n",
       " 'to',\n",
       " 'direct',\n",
       " 'processes',\n",
       " 'in',\n",
       " 'effect',\n",
       " 'we',\n",
       " 'conjure',\n",
       " 'the',\n",
       " 'spirits',\n",
       " 'of',\n",
       " 'the',\n",
       " 'computer',\n",
       " 'with',\n",
       " 'our',\n",
       " 'spells']"
      ]
     },
     "execution_count": 8,
     "metadata": {},
     "output_type": "execute_result"
    }
   ],
   "source": [
    "words = sentences.split()\n",
    "words"
   ]
  },
  {
   "cell_type": "code",
   "execution_count": 9,
   "metadata": {},
   "outputs": [
    {
     "data": {
      "text/plain": [
       "{'about',\n",
       " 'abstract',\n",
       " 'are',\n",
       " 'as',\n",
       " 'beings',\n",
       " 'by',\n",
       " 'called',\n",
       " 'computational',\n",
       " 'computer',\n",
       " 'computers',\n",
       " 'conjure',\n",
       " 'create',\n",
       " 'data',\n",
       " 'direct',\n",
       " 'directed',\n",
       " 'effect',\n",
       " 'evolution',\n",
       " 'evolve',\n",
       " 'idea',\n",
       " 'in',\n",
       " 'inhabit',\n",
       " 'is',\n",
       " 'manipulate',\n",
       " 'of',\n",
       " 'other',\n",
       " 'our',\n",
       " 'pattern',\n",
       " 'people',\n",
       " 'process',\n",
       " 'processes',\n",
       " 'program',\n",
       " 'programs',\n",
       " 'rules',\n",
       " 'spells',\n",
       " 'spirits',\n",
       " 'study',\n",
       " 'that',\n",
       " 'the',\n",
       " 'they',\n",
       " 'things',\n",
       " 'to',\n",
       " 'we',\n",
       " 'with'}"
      ]
     },
     "execution_count": 9,
     "metadata": {},
     "output_type": "execute_result"
    }
   ],
   "source": [
    "vocab = set(words)\n",
    "vocab"
   ]
  },
  {
   "cell_type": "code",
   "execution_count": 10,
   "metadata": {},
   "outputs": [],
   "source": [
    "vocab_size = len(vocab)\n",
    "embed_dim = 10\n",
    "context_size = 2"
   ]
  },
  {
   "cell_type": "markdown",
   "metadata": {},
   "source": [
    "### Dictionaries for vocab"
   ]
  },
  {
   "cell_type": "code",
   "execution_count": 11,
   "metadata": {},
   "outputs": [
    {
     "data": {
      "text/plain": [
       "{'beings': 0,\n",
       " 'they': 1,\n",
       " 'the': 2,\n",
       " 'data': 3,\n",
       " 'that': 4,\n",
       " 'by': 5,\n",
       " 'spells': 6,\n",
       " 'as': 7,\n",
       " 'inhabit': 8,\n",
       " 'pattern': 9,\n",
       " 'study': 10,\n",
       " 'process': 11,\n",
       " 'manipulate': 12,\n",
       " 'computer': 13,\n",
       " 'abstract': 14,\n",
       " 'programs': 15,\n",
       " 'computational': 16,\n",
       " 'people': 17,\n",
       " 'create': 18,\n",
       " 'directed': 19,\n",
       " 'program': 20,\n",
       " 'about': 21,\n",
       " 'our': 22,\n",
       " 'are': 23,\n",
       " 'conjure': 24,\n",
       " 'called': 25,\n",
       " 'we': 26,\n",
       " 'evolution': 27,\n",
       " 'rules': 28,\n",
       " 'direct': 29,\n",
       " 'evolve': 30,\n",
       " 'computers': 31,\n",
       " 'effect': 32,\n",
       " 'other': 33,\n",
       " 'to': 34,\n",
       " 'is': 35,\n",
       " 'with': 36,\n",
       " 'in': 37,\n",
       " 'spirits': 38,\n",
       " 'things': 39,\n",
       " 'processes': 40,\n",
       " 'idea': 41,\n",
       " 'of': 42}"
      ]
     },
     "execution_count": 11,
     "metadata": {},
     "output_type": "execute_result"
    }
   ],
   "source": [
    "word_to_ix = {word: i for i, word in enumerate(vocab)}\n",
    "word_to_ix"
   ]
  },
  {
   "cell_type": "code",
   "execution_count": 12,
   "metadata": {},
   "outputs": [
    {
     "data": {
      "text/plain": [
       "{0: 'beings',\n",
       " 1: 'they',\n",
       " 2: 'the',\n",
       " 3: 'data',\n",
       " 4: 'that',\n",
       " 5: 'by',\n",
       " 6: 'spells',\n",
       " 7: 'as',\n",
       " 8: 'inhabit',\n",
       " 9: 'pattern',\n",
       " 10: 'study',\n",
       " 11: 'process',\n",
       " 12: 'manipulate',\n",
       " 13: 'computer',\n",
       " 14: 'abstract',\n",
       " 15: 'programs',\n",
       " 16: 'computational',\n",
       " 17: 'people',\n",
       " 18: 'create',\n",
       " 19: 'directed',\n",
       " 20: 'program',\n",
       " 21: 'about',\n",
       " 22: 'our',\n",
       " 23: 'are',\n",
       " 24: 'conjure',\n",
       " 25: 'called',\n",
       " 26: 'we',\n",
       " 27: 'evolution',\n",
       " 28: 'rules',\n",
       " 29: 'direct',\n",
       " 30: 'evolve',\n",
       " 31: 'computers',\n",
       " 32: 'effect',\n",
       " 33: 'other',\n",
       " 34: 'to',\n",
       " 35: 'is',\n",
       " 36: 'with',\n",
       " 37: 'in',\n",
       " 38: 'spirits',\n",
       " 39: 'things',\n",
       " 40: 'processes',\n",
       " 41: 'idea',\n",
       " 42: 'of'}"
      ]
     },
     "execution_count": 12,
     "metadata": {},
     "output_type": "execute_result"
    }
   ],
   "source": [
    "ix_to_word = {i: word for i, word in enumerate(vocab)}\n",
    "ix_to_word"
   ]
  },
  {
   "cell_type": "markdown",
   "metadata": {},
   "source": [
    "### Data bags"
   ]
  },
  {
   "cell_type": "code",
   "execution_count": 13,
   "metadata": {},
   "outputs": [
    {
     "name": "stdout",
     "output_type": "stream",
     "text": [
      "[(['we', 'are', 'to', 'study'], 'about'), (['are', 'about', 'study', 'the'], 'to'), (['about', 'to', 'the', 'idea'], 'study'), (['to', 'study', 'idea', 'of'], 'the'), (['study', 'the', 'of', 'computational'], 'idea')]\n"
     ]
    }
   ],
   "source": [
    "# data - [(context), target]\n",
    "\n",
    "\n",
    "#  \"\"\"We are about to study the idea of a computational process.\n",
    "# Computational processes are abstract beings that inhabit computers.\n",
    "# As they evolve, processes manipulate other abstract things called data.\n",
    "# The evolution of a process is directed by a pattern of rules\n",
    "# called a program. People create programs to direct processes. In effect,\n",
    "# we conjure the spirits of the computer with our spells.\"\"\"\n",
    "\n",
    "\n",
    "data = []\n",
    "for i in range(2, len(words) - 2):\n",
    "    context = [words[i - 2], words[i - 1], words[i + 1], words[i + 2]]\n",
    "    target = words[i]\n",
    "    data.append((context, target))\n",
    "print(data[:5])"
   ]
  },
  {
   "cell_type": "markdown",
   "metadata": {},
   "source": [
    "### Embeddings"
   ]
  },
  {
   "cell_type": "code",
   "execution_count": 30,
   "metadata": {},
   "outputs": [
    {
     "name": "stdout",
     "output_type": "stream",
     "text": [
      "(43, 10)\n"
     ]
    },
    {
     "data": {
      "text/plain": [
       "array([[0.08939882, 0.3892089 , 0.4567939 , 0.53094761, 0.74348623,\n",
       "        0.34150442, 0.55660483, 0.02072189, 0.13327499, 0.45594249],\n",
       "       [0.40784607, 0.07627876, 0.18211992, 0.26745623, 0.76726664,\n",
       "        0.37154191, 0.24283864, 0.45072007, 0.97014264, 0.52154393],\n",
       "       [0.76033567, 0.84936684, 0.48639942, 0.53791185, 0.75022506,\n",
       "        0.20517451, 0.24352414, 0.57309764, 0.17133082, 0.05075539],\n",
       "       [0.62764997, 0.41710412, 0.25153431, 0.03136028, 0.75527662,\n",
       "        0.22397494, 0.81831366, 0.30164402, 0.10766157, 0.97602104],\n",
       "       [0.82987746, 0.29197956, 0.19200094, 0.91949316, 0.41277894,\n",
       "        0.81531249, 0.84972957, 0.56546699, 0.60244343, 0.2987964 ],\n",
       "       [0.43238712, 0.66300723, 0.27339831, 0.67379816, 0.89164669,\n",
       "        0.8395173 , 0.64306478, 0.57261948, 0.84380829, 0.52783897],\n",
       "       [0.57172159, 0.22998524, 0.79892047, 0.72848208, 0.91182284,\n",
       "        0.0038121 , 0.95686758, 0.30823109, 0.03101914, 0.01781339],\n",
       "       [0.46979495, 0.66534856, 0.30779333, 0.66321806, 0.74266468,\n",
       "        0.82716778, 0.25796039, 0.81673259, 0.80101095, 0.10745899],\n",
       "       [0.09521155, 0.37634719, 0.92529312, 0.62081955, 0.28410062,\n",
       "        0.77916037, 0.32243643, 0.07827828, 0.85349066, 0.56071045],\n",
       "       [0.49451585, 0.94768413, 0.09402939, 0.4012761 , 0.70149502,\n",
       "        0.58324133, 0.71914628, 0.27482303, 0.00647916, 0.13874169],\n",
       "       [0.09834639, 0.14981483, 0.72454517, 0.75044612, 0.78671315,\n",
       "        0.35935154, 0.18212539, 0.26895909, 0.45237431, 0.19156351],\n",
       "       [0.44024797, 0.89947275, 0.50075014, 0.09110534, 0.04977168,\n",
       "        0.76241979, 0.03342138, 0.30986895, 0.64687912, 0.96879223],\n",
       "       [0.95271849, 0.35837667, 0.65011583, 0.57853376, 0.87372702,\n",
       "        0.45309184, 0.85684804, 0.87045669, 0.07431674, 0.3991994 ],\n",
       "       [0.23262485, 0.31681525, 0.85842673, 0.4381845 , 0.63433476,\n",
       "        0.37112093, 0.31239543, 0.46988738, 0.65274467, 0.45918031],\n",
       "       [0.36266596, 0.489965  , 0.91858253, 0.16339614, 0.85693772,\n",
       "        0.67683057, 0.83770344, 0.66115245, 0.99310263, 0.11460991],\n",
       "       [0.0723267 , 0.73385298, 0.21505496, 0.86205552, 0.50487853,\n",
       "        0.98662487, 0.39698977, 0.62122922, 0.34413228, 0.11161156],\n",
       "       [0.7098562 , 0.84483609, 0.71426278, 0.04002535, 0.44471347,\n",
       "        0.87671443, 0.18671837, 0.63454287, 0.91774647, 0.34434751],\n",
       "       [0.23160385, 0.98585474, 0.02640271, 0.41385217, 0.93633071,\n",
       "        0.7595162 , 0.12164347, 0.50983494, 0.00372263, 0.20683805],\n",
       "       [0.78568148, 0.14889828, 0.433259  , 0.20234357, 0.71575513,\n",
       "        0.42057112, 0.53041001, 0.98000553, 0.66570462, 0.78939586],\n",
       "       [0.02616482, 0.21526255, 0.11057375, 0.34934265, 0.14894071,\n",
       "        0.664122  , 0.15225629, 0.04934983, 0.16533328, 0.0056007 ],\n",
       "       [0.58870521, 0.53912592, 0.17689457, 0.12663424, 0.80413019,\n",
       "        0.10245532, 0.62528477, 0.62635469, 0.0501047 , 0.64310248],\n",
       "       [0.11726958, 0.41063961, 0.59341561, 0.20632902, 0.73316195,\n",
       "        0.74702319, 0.86203814, 0.35520627, 0.49560532, 0.50352601],\n",
       "       [0.62240057, 0.77631381, 0.86231954, 0.72261649, 0.18045786,\n",
       "        0.64293427, 0.11770653, 0.51455259, 0.83085577, 0.76135701],\n",
       "       [0.87379047, 0.7755601 , 0.83979792, 0.6067922 , 0.14362467,\n",
       "        0.71408409, 0.74410578, 0.23828651, 0.91687774, 0.71407387],\n",
       "       [0.27914572, 0.30846277, 0.3929356 , 0.53098153, 0.25731969,\n",
       "        0.78154531, 0.84381632, 0.76816271, 0.59563336, 0.41343618],\n",
       "       [0.74954377, 0.97600666, 0.68814079, 0.49220735, 0.85364142,\n",
       "        0.14120206, 0.34993955, 0.26890579, 0.16780058, 0.39297975],\n",
       "       [0.02137174, 0.08655486, 0.85546621, 0.7277749 , 0.88678046,\n",
       "        0.12289566, 0.37322215, 0.82203905, 0.4719693 , 0.20167603],\n",
       "       [0.15678048, 0.20967227, 0.50846859, 0.95484614, 0.8040295 ,\n",
       "        0.7393501 , 0.34016451, 0.82560086, 0.06999134, 0.52419695],\n",
       "       [0.88666241, 0.96024855, 0.29535188, 0.31990839, 0.35564189,\n",
       "        0.39499329, 0.25512172, 0.60382865, 0.54337893, 0.32331168],\n",
       "       [0.29500783, 0.41530215, 0.88427888, 0.33206397, 0.4753217 ,\n",
       "        0.72524892, 0.02432216, 0.36566331, 0.06321269, 0.88197488],\n",
       "       [0.35400537, 0.05347665, 0.48792533, 0.30062795, 0.52490704,\n",
       "        0.95970036, 0.81035043, 0.19190776, 0.15975636, 0.70084069],\n",
       "       [0.43126691, 0.52750611, 0.50642038, 0.70575968, 0.51523441,\n",
       "        0.12149106, 0.85069594, 0.42082582, 0.26516309, 0.17165959],\n",
       "       [0.98392428, 0.47669958, 0.52859188, 0.19061537, 0.62319717,\n",
       "        0.52162751, 0.64539188, 0.5048455 , 0.5272972 , 0.25370159],\n",
       "       [0.82248179, 0.85417823, 0.61024799, 0.95646152, 0.58238456,\n",
       "        0.22160942, 0.01944013, 0.97897554, 0.77599759, 0.56026447],\n",
       "       [0.9624974 , 0.75625201, 0.77076638, 0.27283309, 0.72666407,\n",
       "        0.834604  , 0.39650448, 0.48686197, 0.44548694, 0.71483123],\n",
       "       [0.30988544, 0.95109484, 0.99470285, 0.64859034, 0.44283216,\n",
       "        0.53310126, 0.55579063, 0.16384834, 0.9535133 , 0.32849776],\n",
       "       [0.68795725, 0.82720151, 0.08110229, 0.44287268, 0.09527923,\n",
       "        0.26147967, 0.35238927, 0.45439418, 0.93514335, 0.73114326],\n",
       "       [0.03446653, 0.10003967, 0.22684763, 0.236905  , 0.82668888,\n",
       "        0.10627078, 0.26553414, 0.90114829, 0.01131943, 0.74122637],\n",
       "       [0.55249951, 0.38279202, 0.46051456, 0.65739142, 0.74674494,\n",
       "        0.73277616, 0.34448452, 0.74093759, 0.15304471, 0.79018247],\n",
       "       [0.65623786, 0.90557722, 0.94184557, 0.7252614 , 0.86304679,\n",
       "        0.77875284, 0.11634408, 0.91067888, 0.13766857, 0.24771887],\n",
       "       [0.82752028, 0.99289666, 0.48690633, 0.10548898, 0.84557027,\n",
       "        0.18441486, 0.28538349, 0.52444167, 0.77268942, 0.2155241 ],\n",
       "       [0.48785509, 0.55218731, 0.14580002, 0.53816089, 0.02918484,\n",
       "        0.58359104, 0.25657501, 0.3601051 , 0.83419389, 0.36296372],\n",
       "       [0.84537978, 0.40956256, 0.84384092, 0.90319453, 0.4306107 ,\n",
       "        0.92452979, 0.72862894, 0.3717054 , 0.99994783, 0.09304229]])"
      ]
     },
     "execution_count": 30,
     "metadata": {},
     "output_type": "execute_result"
    }
   ],
   "source": [
    "embeddings =  np.random.random_sample((vocab_size, embed_dim))\n",
    "print(embeddings.shape)\n",
    "embeddings"
   ]
  },
  {
   "cell_type": "markdown",
   "metadata": {},
   "source": [
    "### Linear Model"
   ]
  },
  {
   "cell_type": "code",
   "execution_count": 16,
   "metadata": {},
   "outputs": [],
   "source": [
    "def linear(m, theta):\n",
    "    w = theta\n",
    "    return m.dot(w)"
   ]
  },
  {
   "cell_type": "markdown",
   "metadata": {},
   "source": [
    "### Log softmax + NLLloss = Cross Entropy"
   ]
  },
  {
   "cell_type": "code",
   "execution_count": 17,
   "metadata": {},
   "outputs": [],
   "source": [
    "def log_softmax(x):\n",
    "    e_x = np.exp(x - np.max(x))\n",
    "    return np.log(e_x / e_x.sum())"
   ]
  },
  {
   "cell_type": "code",
   "execution_count": 18,
   "metadata": {},
   "outputs": [],
   "source": [
    "def NLLLoss(logs, targets):\n",
    "    out = logs[range(len(targets)), targets]\n",
    "    return -out.sum()/len(out)"
   ]
  },
  {
   "cell_type": "code",
   "execution_count": 19,
   "metadata": {},
   "outputs": [],
   "source": [
    "def log_softmax_crossentropy_with_logits(logits,target):\n",
    "\n",
    "    out = np.zeros_like(logits)\n",
    "    out[np.arange(len(logits)),target] = 1\n",
    "    \n",
    "    softmax = np.exp(logits) / np.exp(logits).sum(axis=-1,keepdims=True)\n",
    "    \n",
    "    return (- out + softmax) / logits.shape[0]"
   ]
  },
  {
   "cell_type": "markdown",
   "metadata": {},
   "source": [
    "### Forward function"
   ]
  },
  {
   "cell_type": "code",
   "execution_count": 20,
   "metadata": {},
   "outputs": [],
   "source": [
    "def forward(context_idxs, theta):\n",
    "    m = embeddings[context_idxs].reshape(1, -1)\n",
    "    n = linear(m, theta)\n",
    "    o = log_softmax(n)\n",
    "    return m, n, o"
   ]
  },
  {
   "cell_type": "markdown",
   "metadata": {},
   "source": [
    "### Backward function"
   ]
  },
  {
   "cell_type": "code",
   "execution_count": 21,
   "metadata": {},
   "outputs": [],
   "source": [
    "def backward(preds, theta, target_idxs):\n",
    "    m, n, o = preds\n",
    "    dlog = log_softmax_crossentropy_with_logits(n, target_idxs)\n",
    "    dw = m.T.dot(dlog)\n",
    "    return dw"
   ]
  },
  {
   "cell_type": "markdown",
   "metadata": {},
   "source": [
    "### Optimize function"
   ]
  },
  {
   "cell_type": "code",
   "execution_count": 22,
   "metadata": {},
   "outputs": [],
   "source": [
    "def optimize(theta, grad, lr=0.03):\n",
    "    theta -= grad * lr\n",
    "    return theta"
   ]
  },
  {
   "cell_type": "markdown",
   "metadata": {},
   "source": [
    "### Training function"
   ]
  },
  {
   "cell_type": "code",
   "execution_count": 23,
   "metadata": {},
   "outputs": [],
   "source": [
    "theta = np.random.uniform(-1, 1, (2 * context_size * embed_dim, vocab_size))"
   ]
  },
  {
   "cell_type": "code",
   "execution_count": 24,
   "metadata": {},
   "outputs": [],
   "source": [
    "# [(['we', 'are', 'to', 'study'], 'about'), (['are', 'about', 'study', 'the'], 'to'), (['about', 'to', 'the', 'idea'], 'study'), (['to', 'study', 'idea', 'of'], 'the'), (['study', 'the', 'of', 'computational'], 'idea')]\n",
    "\n",
    "\n",
    "\n",
    "epoch_losses = {}\n",
    "\n",
    "for epoch in range(80):\n",
    "\n",
    "    losses =  []\n",
    "\n",
    "    for context, target in data:\n",
    "        context_idxs = np.array([word_to_ix[w] for w in context])\n",
    "        preds = forward(context_idxs, theta)\n",
    "\n",
    "        target_idxs = np.array([word_to_ix[target]])\n",
    "        loss = NLLLoss(preds[-1], target_idxs)\n",
    "\n",
    "        losses.append(loss)\n",
    "\n",
    "        grad = backward(preds, theta, target_idxs)\n",
    "        theta = optimize(theta, grad, lr=0.03)\n",
    "        \n",
    "     \n",
    "    epoch_losses[epoch] = losses"
   ]
  },
  {
   "cell_type": "markdown",
   "metadata": {},
   "source": [
    "### Plot loss/epoch"
   ]
  },
  {
   "cell_type": "code",
   "execution_count": 25,
   "metadata": {},
   "outputs": [
    {
     "data": {
      "text/plain": [
       "Text(0, 0.5, 'Losses')"
      ]
     },
     "execution_count": 25,
     "metadata": {},
     "output_type": "execute_result"
    },
    {
     "data": {
      "image/png": "[encoded data removed]",
      "text/plain": [
       "<Figure size 432x288 with 1 Axes>"
      ]
     },
     "metadata": {
      "needs_background": "light"
     },
     "output_type": "display_data"
    }
   ],
   "source": [
    "ix = np.arange(0,80)\n",
    "\n",
    "fig = plt.figure()\n",
    "fig.suptitle('Epoch/Losses', fontsize=20)\n",
    "plt.plot(ix,[epoch_losses[i][0] for i in ix])\n",
    "plt.xlabel('Epochs', fontsize=12)\n",
    "plt.ylabel('Losses', fontsize=12)"
   ]
  },
  {
   "cell_type": "markdown",
   "metadata": {},
   "source": [
    "### Predict function"
   ]
  },
  {
   "cell_type": "code",
   "execution_count": 26,
   "metadata": {},
   "outputs": [],
   "source": [
    "def predict(words):\n",
    "    context_idxs = np.array([word_to_ix[w] for w in words])\n",
    "    preds = forward(context_idxs, theta)\n",
    "    word = ix_to_word[np.argmax(preds[-1])]\n",
    "    \n",
    "    return word"
   ]
  },
  {
   "cell_type": "code",
   "execution_count": 27,
   "metadata": {},
   "outputs": [
    {
     "data": {
      "text/plain": [
       "'about'"
      ]
     },
     "execution_count": 27,
     "metadata": {},
     "output_type": "execute_result"
    }
   ],
   "source": [
    "# (['we', 'are', 'to', 'study'], 'about')\n",
    "predict(['we', 'are', 'to', 'study'])"
   ]
  },
  {
   "cell_type": "markdown",
   "metadata": {},
   "source": [
    "### Accuracy"
   ]
  },
  {
   "cell_type": "code",
   "execution_count": 28,
   "metadata": {},
   "outputs": [],
   "source": [
    "def accuracy():\n",
    "    wrong = 0\n",
    "\n",
    "    for context, target in data:\n",
    "        if(predict(context) != target):\n",
    "            wrong += 1\n",
    "            \n",
    "    return (1 - (wrong / len(data)))"
   ]
  },
  {
   "cell_type": "code",
   "execution_count": 29,
   "metadata": {},
   "outputs": [
    {
     "data": {
      "text/plain": [
       "1.0"
      ]
     },
     "execution_count": 29,
     "metadata": {},
     "output_type": "execute_result"
    }
   ],
   "source": [
    "accuracy()"
   ]
  },
  {
   "cell_type": "code",
   "execution_count": null,
   "metadata": {},
   "outputs": [],
   "source": []
  },
  {
   "cell_type": "code",
   "execution_count": null,
   "metadata": {},
   "outputs": [],
   "source": []
  },
  {
   "cell_type": "code",
   "execution_count": null,
   "metadata": {},
   "outputs": [],
   "source": []
  },
  {
   "cell_type": "code",
   "execution_count": null,
   "metadata": {},
   "outputs": [],
   "source": []
  },
  {
   "cell_type": "code",
   "execution_count": null,
   "metadata": {},
   "outputs": [],
   "source": []
  },
  {
   "cell_type": "code",
   "execution_count": null,
   "metadata": {},
   "outputs": [],
   "source": []
  },
  {
   "cell_type": "code",
   "execution_count": null,
   "metadata": {},
   "outputs": [],
   "source": []
  },
  {
   "cell_type": "code",
   "execution_count": null,
   "metadata": {},
   "outputs": [],
   "source": []
  },
  {
   "cell_type": "code",
   "execution_count": null,
   "metadata": {},
   "outputs": [],
   "source": []
  },
  {
   "cell_type": "code",
   "execution_count": null,
   "metadata": {},
   "outputs": [],
   "source": []
  },
  {
   "cell_type": "code",
   "execution_count": null,
   "metadata": {},
   "outputs": [],
   "source": []
  }
 ],
 "metadata": {
  "kernelspec": {
   "display_name": "Python 3",
   "language": "python",
   "name": "python3"
  },
  "language_info": {
   "codemirror_mode": {
    "name": "ipython",
    "version": 3
   },
   "file_extension": ".py",
   "mimetype": "text/x-python",
   "name": "python",
   "nbconvert_exporter": "python",
   "pygments_lexer": "ipython3",
   "version": "3.7.0"
  }
 },
 "nbformat": 4,
 "nbformat_minor": 4
}
