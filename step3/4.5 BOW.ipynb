{
 "cells": [
  {
   "cell_type": "code",
   "execution_count": 1,
   "metadata": {},
   "outputs": [],
   "source": [
    "import nltk \n",
    "import re\n",
    "import numpy\n",
    "from nltk.corpus import stopwords"
   ]
  },
  {
   "cell_type": "code",
   "execution_count": 2,
   "metadata": {},
   "outputs": [],
   "source": [
    "def word_extraction(sentence):\n",
    "    words = re.sub(\"[^\\w]\", \" \",  sentence).split()\n",
    "    cleaned_text = [w.lower() for w in words if w not in stopwords.words('english')]\n",
    "    return cleaned_text"
   ]
  },
  {
   "cell_type": "code",
   "execution_count": 3,
   "metadata": {},
   "outputs": [],
   "source": [
    "def tokenize(sentences):\n",
    "    words = []\n",
    "    for sentence in sentences:\n",
    "        w = word_extraction(sentence)\n",
    "        words.extend(w)\n",
    "    words = sorted(list(set(words)))\n",
    "    return words"
   ]
  },
  {
   "cell_type": "code",
   "execution_count": null,
   "metadata": {},
   "outputs": [],
   "source": [
    "# S1 = ['it','was','the','best','of']\n",
    "# S2 = ['i','love','python','so','much']\n",
    "# S3 = ['he','was','playing','the','game']\n",
    "\n",
    "# words = ['it','was','the','best','of','i','love','python','so','much','he','was','playing','the','game']\n",
    "# words = [['it','was','the','best','of'] , ['i','love','python','so','much'] , ['he','was','playing','the','game']]\n",
    "\n"
   ]
  },
  {
   "cell_type": "code",
   "execution_count": 4,
   "metadata": {},
   "outputs": [],
   "source": [
    "text = \"Mary and Samantha arrived at the bus station early but waited until noon for the bus\""
   ]
  },
  {
   "cell_type": "code",
   "execution_count": 5,
   "metadata": {},
   "outputs": [
    {
     "data": {
      "text/plain": [
       "['mary',\n",
       " 'samantha',\n",
       " 'arrived',\n",
       " 'bus',\n",
       " 'station',\n",
       " 'early',\n",
       " 'waited',\n",
       " 'noon',\n",
       " 'bus']"
      ]
     },
     "execution_count": 5,
     "metadata": {},
     "output_type": "execute_result"
    }
   ],
   "source": [
    "word_extraction(text)"
   ]
  },
  {
   "cell_type": "code",
   "execution_count": 6,
   "metadata": {},
   "outputs": [
    {
     "data": {
      "text/plain": [
       "['arrived', 'bus', 'early', 'mary', 'noon', 'samantha', 'station', 'waited']"
      ]
     },
     "execution_count": 6,
     "metadata": {},
     "output_type": "execute_result"
    }
   ],
   "source": [
    "tokenize(word_extraction(text))"
   ]
  },
  {
   "cell_type": "code",
   "execution_count": 16,
   "metadata": {},
   "outputs": [],
   "source": [
    "def generate_bow(allsentences):\n",
    "    vocab = tokenize(allsentences)\n",
    "    print(\"Word List for Document \\n{0} \\n\".format(vocab))\n",
    "    for sentence in allsentences:\n",
    "        words = word_extraction(sentence)\n",
    "        bag_vector = numpy.zeros(len(vocab))\n",
    "        for w in words:\n",
    "            for i,word in enumerate(vocab):\n",
    "                if word == w:\n",
    "                    bag_vector[i] += 1\n",
    "        print(\"{0}\\n{1}\\n\".format(sentence,numpy.array(bag_vector)))\n",
    "        print('---------------------------------------------------')"
   ]
  },
  {
   "cell_type": "code",
   "execution_count": 17,
   "metadata": {},
   "outputs": [
    {
     "name": "stdout",
     "output_type": "stream",
     "text": [
      "Word List for Document \n",
      "['arrived', 'bus', 'early', 'mary', 'noon', 'samantha', 'station', 'waited'] \n",
      "\n",
      "mary\n",
      "[0. 0. 0. 1. 0. 0. 0. 0.]\n",
      "\n",
      "---------------------------------------------------\n",
      "samantha\n",
      "[0. 0. 0. 0. 0. 1. 0. 0.]\n",
      "\n",
      "---------------------------------------------------\n",
      "arrived\n",
      "[1. 0. 0. 0. 0. 0. 0. 0.]\n",
      "\n",
      "---------------------------------------------------\n",
      "bus\n",
      "[0. 1. 0. 0. 0. 0. 0. 0.]\n",
      "\n",
      "---------------------------------------------------\n",
      "station\n",
      "[0. 0. 0. 0. 0. 0. 1. 0.]\n",
      "\n",
      "---------------------------------------------------\n",
      "early\n",
      "[0. 0. 1. 0. 0. 0. 0. 0.]\n",
      "\n",
      "---------------------------------------------------\n",
      "waited\n",
      "[0. 0. 0. 0. 0. 0. 0. 1.]\n",
      "\n",
      "---------------------------------------------------\n",
      "noon\n",
      "[0. 0. 0. 0. 1. 0. 0. 0.]\n",
      "\n",
      "---------------------------------------------------\n",
      "bus\n",
      "[0. 1. 0. 0. 0. 0. 0. 0.]\n",
      "\n",
      "---------------------------------------------------\n"
     ]
    }
   ],
   "source": [
    "generate_bow(word_extraction(text))"
   ]
  },
  {
   "cell_type": "code",
   "execution_count": 21,
   "metadata": {},
   "outputs": [],
   "source": [
    "allsentences = [\"Joe waited for the train\",\n",
    "                \"The train was late\",\n",
    "                \"Mary and Samantha took the bus\",\n",
    "               \"I looked for Mary and Samantha at the bus station\",\n",
    "                \"Mary and Samantha arrived at the bus station early but waited until noon for the bus\"]"
   ]
  },
  {
   "cell_type": "code",
   "execution_count": 19,
   "metadata": {},
   "outputs": [
    {
     "name": "stdout",
     "output_type": "stream",
     "text": [
      "Word List for Document \n",
      "['arrived', 'bus', 'early', 'i', 'joe', 'late', 'looked', 'mary', 'noon', 'samantha', 'station', 'the', 'took', 'train', 'waited'] \n",
      "\n",
      "Joe waited for the train Joe joe joe joe\n",
      "[0. 0. 0. 0. 5. 0. 0. 0. 0. 0. 0. 0. 0. 1. 1.]\n",
      "\n",
      "---------------------------------------------------\n",
      "The train was late\n",
      "[0. 0. 0. 0. 0. 1. 0. 0. 0. 0. 0. 1. 0. 1. 0.]\n",
      "\n",
      "---------------------------------------------------\n",
      "Mary and Samantha took the bus\n",
      "[0. 1. 0. 0. 0. 0. 0. 1. 0. 1. 0. 0. 1. 0. 0.]\n",
      "\n",
      "---------------------------------------------------\n",
      "I looked for Mary and Samantha at the bus station\n",
      "[0. 1. 0. 1. 0. 0. 1. 1. 0. 1. 1. 0. 0. 0. 0.]\n",
      "\n",
      "---------------------------------------------------\n",
      "Mary and Samantha arrived at the bus station early but waited until noon for the bus\n",
      "[1. 2. 1. 0. 0. 0. 0. 1. 1. 1. 1. 0. 0. 0. 1.]\n",
      "\n",
      "---------------------------------------------------\n"
     ]
    }
   ],
   "source": [
    "generate_bow(allsentences)"
   ]
  },
  {
   "cell_type": "code",
   "execution_count": 22,
   "metadata": {},
   "outputs": [
    {
     "name": "stdout",
     "output_type": "stream",
     "text": [
      "Joe waited for the train\n",
      "[0, 0, 0, 0, 0, 0, 1, 1, 0, 0, 0, 0, 0, 0, 1, 0, 1, 0, 1, 0]\n",
      "---------------------------------------------------\n",
      "The train was late\n",
      "[0, 0, 0, 0, 0, 0, 0, 0, 1, 0, 0, 0, 0, 0, 1, 0, 1, 0, 0, 1]\n",
      "---------------------------------------------------\n",
      "Mary and Samantha took the bus\n",
      "[1, 0, 0, 1, 0, 0, 0, 0, 0, 0, 1, 0, 1, 0, 1, 1, 0, 0, 0, 0]\n",
      "---------------------------------------------------\n",
      "I looked for Mary and Samantha at the bus station\n",
      "[1, 0, 1, 1, 0, 0, 1, 0, 0, 1, 1, 0, 1, 1, 1, 0, 0, 0, 0, 0]\n",
      "---------------------------------------------------\n",
      "Mary and Samantha arrived at the bus station early but waited until noon for the bus\n",
      "[1, 1, 1, 2, 1, 1, 1, 0, 0, 0, 1, 1, 1, 1, 2, 0, 0, 1, 1, 0]\n",
      "---------------------------------------------------\n"
     ]
    }
   ],
   "source": [
    "from sklearn.feature_extraction.text import CountVectorizer\n",
    "\n",
    "vectorizer = CountVectorizer()\n",
    "X = vectorizer.fit_transform(allsentences)\n",
    "\n",
    "for i in range(len(allsentences)) : \n",
    "    print(allsentences[i])\n",
    "    print(list(X.toarray()[i]))\n",
    "    \n",
    "    print('---------------------------------------------------')"
   ]
  },
  {
   "cell_type": "code",
   "execution_count": null,
   "metadata": {},
   "outputs": [],
   "source": []
  },
  {
   "cell_type": "code",
   "execution_count": null,
   "metadata": {},
   "outputs": [],
   "source": []
  },
  {
   "cell_type": "code",
   "execution_count": 23,
   "metadata": {},
   "outputs": [],
   "source": [
    "text = \"ذهب محمد و شريف الي المدرسة هذا اليوم\""
   ]
  },
  {
   "cell_type": "code",
   "execution_count": 24,
   "metadata": {},
   "outputs": [
    {
     "data": {
      "text/plain": [
       "['ذهب', 'محمد', 'و', 'شريف', 'الي', 'المدرسة', 'هذا', 'اليوم']"
      ]
     },
     "execution_count": 24,
     "metadata": {},
     "output_type": "execute_result"
    }
   ],
   "source": [
    "word_extraction(text)"
   ]
  },
  {
   "cell_type": "code",
   "execution_count": 25,
   "metadata": {},
   "outputs": [
    {
     "data": {
      "text/plain": [
       "['المدرسة', 'الي', 'اليوم', 'ذهب', 'شريف', 'محمد', 'هذا', 'و']"
      ]
     },
     "execution_count": 25,
     "metadata": {},
     "output_type": "execute_result"
    }
   ],
   "source": [
    "tokenize(word_extraction(text))"
   ]
  },
  {
   "cell_type": "code",
   "execution_count": 26,
   "metadata": {},
   "outputs": [
    {
     "name": "stdout",
     "output_type": "stream",
     "text": [
      "Word List for Document \n",
      "['المدرسة', 'الي', 'اليوم', 'ذهب', 'شريف', 'محمد', 'هذا', 'و'] \n",
      "\n",
      "ذهب\n",
      "[0. 0. 0. 1. 0. 0. 0. 0.]\n",
      "\n",
      "---------------------------------------------------\n",
      "محمد\n",
      "[0. 0. 0. 0. 0. 1. 0. 0.]\n",
      "\n",
      "---------------------------------------------------\n",
      "و\n",
      "[0. 0. 0. 0. 0. 0. 0. 1.]\n",
      "\n",
      "---------------------------------------------------\n",
      "شريف\n",
      "[0. 0. 0. 0. 1. 0. 0. 0.]\n",
      "\n",
      "---------------------------------------------------\n",
      "الي\n",
      "[0. 1. 0. 0. 0. 0. 0. 0.]\n",
      "\n",
      "---------------------------------------------------\n",
      "المدرسة\n",
      "[1. 0. 0. 0. 0. 0. 0. 0.]\n",
      "\n",
      "---------------------------------------------------\n",
      "هذا\n",
      "[0. 0. 0. 0. 0. 0. 1. 0.]\n",
      "\n",
      "---------------------------------------------------\n",
      "اليوم\n",
      "[0. 0. 1. 0. 0. 0. 0. 0.]\n",
      "\n",
      "---------------------------------------------------\n"
     ]
    }
   ],
   "source": [
    "generate_bow(word_extraction(text))"
   ]
  },
  {
   "cell_type": "code",
   "execution_count": 27,
   "metadata": {},
   "outputs": [],
   "source": [
    "allsentences = [\"ذهب محمد الي الجامعة\",\n",
    "                \"نجحت مني في الاختبار\",\n",
    "                \"تمكن محمد من السفر هذا اليوم\",\n",
    "               \"اعتقد ان جورج سيتصل بنا اليوم\",\n",
    "                \"لا اظن ان الاختبار سيكون سهلا\"]"
   ]
  },
  {
   "cell_type": "code",
   "execution_count": 28,
   "metadata": {},
   "outputs": [
    {
     "name": "stdout",
     "output_type": "stream",
     "text": [
      "Word List for Document \n",
      "['اظن', 'اعتقد', 'الاختبار', 'الجامعة', 'السفر', 'الي', 'اليوم', 'ان', 'بنا', 'تمكن', 'جورج', 'ذهب', 'سهلا', 'سيتصل', 'سيكون', 'في', 'لا', 'محمد', 'من', 'مني', 'نجحت', 'هذا'] \n",
      "\n",
      "ذهب محمد الي الجامعة\n",
      "[0. 0. 0. 1. 0. 1. 0. 0. 0. 0. 0. 1. 0. 0. 0. 0. 0. 1. 0. 0. 0. 0.]\n",
      "\n",
      "---------------------------------------------------\n",
      "نجحت مني في الاختبار\n",
      "[0. 0. 1. 0. 0. 0. 0. 0. 0. 0. 0. 0. 0. 0. 0. 1. 0. 0. 0. 1. 1. 0.]\n",
      "\n",
      "---------------------------------------------------\n",
      "تمكن محمد من السفر هذا اليوم\n",
      "[0. 0. 0. 0. 1. 0. 1. 0. 0. 1. 0. 0. 0. 0. 0. 0. 0. 1. 1. 0. 0. 1.]\n",
      "\n",
      "---------------------------------------------------\n",
      "اعتقد ان جورج سيتصل بنا اليوم\n",
      "[0. 1. 0. 0. 0. 0. 1. 1. 1. 0. 1. 0. 0. 1. 0. 0. 0. 0. 0. 0. 0. 0.]\n",
      "\n",
      "---------------------------------------------------\n",
      "لا اظن ان الاختبار سيكون سهلا\n",
      "[1. 0. 1. 0. 0. 0. 0. 1. 0. 0. 0. 0. 1. 0. 1. 0. 1. 0. 0. 0. 0. 0.]\n",
      "\n",
      "---------------------------------------------------\n"
     ]
    }
   ],
   "source": [
    "generate_bow(allsentences)"
   ]
  },
  {
   "cell_type": "code",
   "execution_count": null,
   "metadata": {},
   "outputs": [],
   "source": [
    "from sklearn.feature_extraction.text import CountVectorizer\n",
    "\n",
    "vectorizer = CountVectorizer()\n",
    "X = vectorizer.fit_transform(allsentences)\n",
    "\n",
    "for i in range(len(allsentences)) : \n",
    "    print(allsentences[i])\n",
    "    print(list(X.toarray()[i]))\n",
    "    print('---------------------------------------------------')"
   ]
  },
  {
   "cell_type": "code",
   "execution_count": null,
   "metadata": {},
   "outputs": [],
   "source": []
  },
  {
   "cell_type": "code",
   "execution_count": null,
   "metadata": {},
   "outputs": [],
   "source": []
  }
 ],
 "metadata": {
  "kernelspec": {
   "display_name": "Python 3",
   "language": "python",
   "name": "python3"
  },
  "language_info": {
   "codemirror_mode": {
    "name": "ipython",
    "version": 3
   },
   "file_extension": ".py",
   "mimetype": "text/x-python",
   "name": "python",
   "nbconvert_exporter": "python",
   "pygments_lexer": "ipython3",
   "version": "3.7.0"
  }
 },
 "nbformat": 4,
 "nbformat_minor": 4
}
