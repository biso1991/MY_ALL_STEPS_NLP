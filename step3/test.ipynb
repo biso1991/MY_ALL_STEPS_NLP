{
 "cells": [
  {
   "cell_type": "code",
   "execution_count": 5,
   "metadata": {},
   "outputs": [
    {
     "name": "stdout",
     "output_type": "stream",
     "text": [
      "pet pet\n"
     ]
    }
   ],
   "source": [
    "dog=[\"lion\",\"cat\",\"pet\"]\n",
    "d=[(s,n) for s in dog for n in dog]\n",
    "print(s,n)\n"
   ]
  },
  {
   "cell_type": "code",
   "execution_count": null,
   "metadata": {},
   "outputs": [],
   "source": []
  },
  {
   "cell_type": "code",
   "execution_count": 15,
   "metadata": {},
   "outputs": [
    {
     "name": "stdout",
     "output_type": "stream",
     "text": [
      "nohtyp olleh\n"
     ]
    }
   ],
   "source": [
    "c=''\n",
    "l= \"hello python\"\n",
    "for n in range(len(l)):\n",
    "    c=c+l[len(l)-n-1]\n",
    "    # c=0+11-1-1 ++\n",
    "    # print(c)\n",
    "print(c)"
   ]
  },
  {
   "cell_type": "code",
   "execution_count": 24,
   "metadata": {},
   "outputs": [
    {
     "name": "stdout",
     "output_type": "stream",
     "text": [
      "h\n",
      "y\n"
     ]
    }
   ],
   "source": [
    "c=\"hey\"\n",
    "for n in c:\n",
    "    if n == 'e' :\n",
    "        continue\n",
    "    print(n)\n"
   ]
  },
  {
   "cell_type": "code",
   "execution_count": 42,
   "metadata": {},
   "outputs": [
    {
     "name": "stdout",
     "output_type": "stream",
     "text": [
      "1\n",
      "2\n",
      "4\n",
      "7\n",
      "8\n",
      "11\n",
      "13\n",
      "14\n",
      "16\n",
      "17\n",
      "19\n",
      "22\n",
      "23\n"
     ]
    }
   ],
   "source": [
    "c=\"fnvjfokdvsjklnsdkvhnvfjk\"\n",
    "for n in range(len(c)):\n",
    "    if n%5==0 or n%3==0:\n",
    "        continue\n",
    "    print(n)"
   ]
  },
  {
   "cell_type": "code",
   "execution_count": 48,
   "metadata": {},
   "outputs": [
    {
     "name": "stdout",
     "output_type": "stream",
     "text": [
      "dived over 5 is 0\n",
      "not dived over 5 is 1\n",
      "not dived over 5 is 2\n",
      "not dived over 5 is 3\n",
      "not dived over 5 is 4\n",
      "dived over 5 is 5\n",
      "not dived over 5 is 6\n",
      "not dived over 5 is 7\n",
      "not dived over 5 is 8\n",
      "not dived over 5 is 9\n",
      "dived over 5 is 10\n",
      "not dived over 5 is 11\n",
      "not dived over 5 is 12\n",
      "not dived over 5 is 13\n",
      "not dived over 5 is 14\n",
      "dived over 5 is 15\n",
      "not dived over 5 is 16\n",
      "not dived over 5 is 17\n",
      "not dived over 5 is 18\n",
      "not dived over 5 is 19\n",
      "dived over 5 is 20\n",
      "not dived over 5 is 21\n"
     ]
    }
   ],
   "source": [
    "for t in range(22):\n",
    "    if t%5==0:\n",
    "        print(\"dived over 5 is \"+str(t))\n",
    "        continue\n",
    "    print(\"not dived over 5 is \"+ str(t))"
   ]
  },
  {
   "cell_type": "code",
   "execution_count": 54,
   "metadata": {},
   "outputs": [
    {
     "name": "stdout",
     "output_type": "stream",
     "text": [
      "('name', 'ahmed')\n",
      "('age', '35')\n",
      "('job', 'doct')\n"
     ]
    }
   ],
   "source": [
    "d ={'name':'ahmed','age':'35','job':'doct'}\n",
    "for j in d.items():\n",
    "  \n",
    "    print(j)"
   ]
  },
  {
   "cell_type": "code",
   "execution_count": 55,
   "metadata": {},
   "outputs": [
    {
     "name": "stdout",
     "output_type": "stream",
     "text": [
      "name\n",
      "ahmed\n",
      "age\n",
      "35\n",
      "job\n",
      "doct\n"
     ]
    }
   ],
   "source": [
    "d ={'name':'ahmed','age':'35','job':'doct'}\n",
    "for x,y in d.items():\n",
    "    print(x)\n",
    "    print(y)"
   ]
  },
  {
   "cell_type": "code",
   "execution_count": 57,
   "metadata": {},
   "outputs": [
    {
     "name": "stdout",
     "output_type": "stream",
     "text": [
      "name\n",
      "age\n",
      "job\n",
      "###########################\n",
      "ahmed\n",
      "35\n",
      "doct\n"
     ]
    }
   ],
   "source": [
    "d ={'name':'ahmed','age':'35','job':'doct'}\n",
    "for x in d.keys():\n",
    "    print(x)\n",
    "print(\"###########################\")\n",
    "for y in d.values():\n",
    "    print(y)"
   ]
  },
  {
   "cell_type": "code",
   "execution_count": 58,
   "metadata": {},
   "outputs": [
    {
     "name": "stdout",
     "output_type": "stream",
     "text": [
      "0 tic\n",
      "1 tac\n",
      "2 toc\n"
     ]
    }
   ],
   "source": [
    "for i ,v in enumerate(['tic','tac','toc']):\n",
    "    print(i,v)"
   ]
  },
  {
   "cell_type": "code",
   "execution_count": 61,
   "metadata": {},
   "outputs": [
    {
     "name": "stdout",
     "output_type": "stream",
     "text": [
      "what is your name  bilel\n",
      "where are you form  tunis\n",
      "how old are you  31\n"
     ]
    }
   ],
   "source": [
    "# concatination 2 list\n",
    "questions= ['what is your name ','where are you form ','how old are you ']\n",
    "answers=['bilel','tunis',31]\n",
    "for x,y in zip(questions,answers):\n",
    "    print(x+\" \"+str(y))\n"
   ]
  },
  {
   "cell_type": "code",
   "execution_count": 65,
   "metadata": {},
   "outputs": [
    {
     "name": "stdout",
     "output_type": "stream",
     "text": [
      "[0, 5, 10, 15, 20, 25, 30, 35, 40, 45, 50, 55, 60, 65, 70, 75, 80, 85, 90, 95, 100, 105, 110, 115, 120, 125, 130, 135, 140, 145, 150, 155, 160, 165, 170, 175, 180, 185, 190, 195]\n"
     ]
    }
   ],
   "source": [
    "a=[i for i in range(200)if i%5==0]\n",
    "print(a)"
   ]
  },
  {
   "cell_type": "code",
   "execution_count": 68,
   "metadata": {},
   "outputs": [
    {
     "name": "stdout",
     "output_type": "stream",
     "text": [
      "[0, 1, 4, 9, 16, 25, 36, 49, 64, 81, 100, 121]\n",
      "[(0, 0), (0, 1), (0, 2), (0, 3), (0, 4), (0, 5), (1, 0), (1, 1), (1, 2), (1, 3), (1, 4), (1, 5), (2, 0), (2, 1), (2, 2), (2, 3), (2, 4), (2, 5), (3, 0), (3, 1), (3, 2), (3, 3), (3, 4), (3, 5), (4, 0), (4, 1), (4, 2), (4, 3), (4, 4), (4, 5)]\n"
     ]
    }
   ],
   "source": [
    "a=[n**2 for n in range(12)]\n",
    "print(a) \n",
    "c=[(i,j)for i in range(5) for j in range(6)]\n",
    "print(c)"
   ]
  },
  {
   "cell_type": "code",
   "execution_count": 69,
   "metadata": {},
   "outputs": [
    {
     "name": "stdout",
     "output_type": "stream",
     "text": [
      "[(0, 4), (0, 5), (0, 6), (0, 7), (1, 4), (1, 5), (1, 6), (1, 7), (8, 4), (8, 5), (8, 6), (8, 7)]\n"
     ]
    }
   ],
   "source": [
    "A=[(a**3,b+4)for a in range(3)for b in range(4)]\n",
    "print(A)"
   ]
  },
  {
   "cell_type": "code",
   "execution_count": 71,
   "metadata": {},
   "outputs": [
    {
     "name": "stdout",
     "output_type": "stream",
     "text": [
      "[(0, 0), (0, 1), (0, 4), (0, 9), (0, 16), (2, 0), (2, 1), (2, 4), (2, 9), (2, 16), (4, 0), (4, 1), (4, 4), (4, 9), (4, 16)]\n"
     ]
    }
   ],
   "source": [
    "a=[(a*2,b**2 )for  a in range(3)for b in  range(5)]\n",
    "print(a)"
   ]
  },
  {
   "cell_type": "code",
   "execution_count": 72,
   "metadata": {},
   "outputs": [
    {
     "name": "stdout",
     "output_type": "stream",
     "text": [
      "0\n",
      "1\n",
      "2\n",
      "3\n",
      "4\n",
      "5\n",
      "6\n",
      "7\n",
      "8\n",
      "9\n",
      "done\n"
     ]
    }
   ],
   "source": [
    "for x in range(10):\n",
    "    print(x)\n",
    "else:\n",
    "    print('done')"
   ]
  },
  {
   "cell_type": "code",
   "execution_count": 73,
   "metadata": {},
   "outputs": [
    {
     "name": "stdout",
     "output_type": "stream",
     "text": [
      "2.9289682539682538\n"
     ]
    }
   ],
   "source": [
    "print(sum([1/n for n in range(1,11,1)]))"
   ]
  },
  {
   "cell_type": "code",
   "execution_count": 75,
   "metadata": {},
   "outputs": [
    {
     "name": "stdout",
     "output_type": "stream",
     "text": [
      "495\n"
     ]
    }
   ],
   "source": [
    "a=sum([3*(k**2)for k in range(1,11,2)])\n",
    "print(a)"
   ]
  },
  {
   "cell_type": "code",
   "execution_count": 78,
   "metadata": {},
   "outputs": [
    {
     "name": "stdout",
     "output_type": "stream",
     "text": [
      "[0, 9, 18, 27, 36, 45, 54, 63, 72, 81]\n",
      "[0, 81, 324, 729, 1296, 2025, 2916, 3969, 5184, 6561]\n"
     ]
    }
   ],
   "source": [
    "a=[y**2 for y in [n*9 for n in range(10)]] \n",
    "e=[n*9 for n in range(10)]\n",
    "print(e)\n",
    "print(a)\n"
   ]
  },
  {
   "cell_type": "code",
   "execution_count": 1,
   "metadata": {},
   "outputs": [],
   "source": [
    "while True :\n",
    " a=int(input('saisie number :' ))\n",
    " if a>15 :\n",
    "    print(\"yes\")\n",
    "    break\n",
    " else :\n",
    "    print('no')\n",
    "print('end')"
   ]
  },
  {
   "cell_type": "code",
   "execution_count": 1,
   "metadata": {},
   "outputs": [],
   "source": [
    "a = int(input(\"saisie valeur : \"))\n",
    "while a <= 5:\n",
    "    print('yes')\n",
    "    a +=1\n"
   ]
  },
  {
   "cell_type": "code",
   "execution_count": null,
   "metadata": {},
   "outputs": [],
   "source": [
    "n=int(input)"
   ]
  }
 ],
 "metadata": {
  "kernelspec": {
   "display_name": "Python 3.8.10 64-bit",
   "language": "python",
   "name": "python3"
  },
  "language_info": {
   "codemirror_mode": {
    "name": "ipython",
    "version": 3
   },
   "file_extension": ".py",
   "mimetype": "text/x-python",
   "name": "python",
   "nbconvert_exporter": "python",
   "pygments_lexer": "ipython3",
   "version": "3.8.10"
  },
  "orig_nbformat": 4,
  "vscode": {
   "interpreter": {
    "hash": "916dbcbb3f70747c44a77c7bcd40155683ae19c65e1c03b4aa3499c5328201f1"
   }
  }
 },
 "nbformat": 4,
 "nbformat_minor": 2
}
