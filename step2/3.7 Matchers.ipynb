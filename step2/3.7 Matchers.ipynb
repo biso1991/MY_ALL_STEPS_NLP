{
 "cells": [
  {
   "cell_type": "code",
   "execution_count": 1,
   "metadata": {},
   "outputs": [],
   "source": [
    "import spacy\n",
    "nlp = spacy.load('en_core_web_sm')"
   ]
  },
  {
   "cell_type": "code",
   "execution_count": 2,
   "metadata": {},
   "outputs": [],
   "source": [
    "from spacy.matcher import Matcher\n",
    "matcher = Matcher(nlp.vocab)"
   ]
  },
  {
   "cell_type": "code",
   "execution_count": 8,
   "metadata": {},
   "outputs": [],
   "source": [
    "pattern1 = [{'LOWER': 'solarpower'}]\n",
    "pattern2 = [{'LOWER': 'solar'}, {'LOWER': 'power'}]\n",
    "pattern3 = [{'LOWER': 'solar'}, {'IS_PUNCT': True}, {'LOWER': 'power'}]\n",
    "\n",
    "matcher.add('SolarPower', None, pattern1, pattern2, pattern3)"
   ]
  },
  {
   "cell_type": "code",
   "execution_count": 15,
   "metadata": {},
   "outputs": [],
   "source": [
    "doc = nlp(u'The Solar Power industry continues to grow as demand for solarpower increases. Solar-power cars are gaining popularity.')"
   ]
  },
  {
   "cell_type": "code",
   "execution_count": 19,
   "metadata": {},
   "outputs": [
    {
     "name": "stdout",
     "output_type": "stream",
     "text": [
      "Word ID 8656102463236116519 , starts at 1 & ends at 3 , and word is Solar Power\n",
      "Word ID 8656102463236116519 , starts at 10 & ends at 11 , and word is solarpower\n",
      "Word ID 8656102463236116519 , starts at 13 & ends at 16 , and word is Solar--power\n"
     ]
    }
   ],
   "source": [
    "found_matches = matcher(doc)\n",
    "for a,b,c in  found_matches : \n",
    "    print(f'Word ID {a} , starts at {b} & ends at {c} , and word is {doc[b:c]}')"
   ]
  },
  {
   "cell_type": "code",
   "execution_count": 6,
   "metadata": {},
   "outputs": [],
   "source": [
    "matcher.remove('SolarPower')"
   ]
  },
  {
   "cell_type": "code",
   "execution_count": 17,
   "metadata": {},
   "outputs": [],
   "source": [
    "pattern1 = [{'LOWER': 'solarpower'}]\n",
    "pattern2 = [{'LOWER': 'solar'}, {'IS_PUNCT': True, 'OP':'*'}, {'LOWER': 'power'}]"
   ]
  },
  {
   "cell_type": "code",
   "execution_count": 18,
   "metadata": {},
   "outputs": [],
   "source": [
    "matcher.add('SolarPower', None, pattern1, pattern2)"
   ]
  },
  {
   "cell_type": "code",
   "execution_count": null,
   "metadata": {},
   "outputs": [],
   "source": []
  },
  {
   "cell_type": "code",
   "execution_count": null,
   "metadata": {},
   "outputs": [],
   "source": []
  },
  {
   "cell_type": "code",
   "execution_count": null,
   "metadata": {},
   "outputs": [],
   "source": []
  },
  {
   "cell_type": "code",
   "execution_count": 20,
   "metadata": {},
   "outputs": [],
   "source": [
    "pattern1 = [{'LOWER': 'solarpower'}]\n",
    "pattern2 = [{'LOWER': 'solar'}, {'IS_PUNCT': True, 'OP':'*'}, {'LOWER': 'power'}]\n",
    "pattern3 = [{'LOWER': 'solarpowered'}]\n",
    "pattern4 = [{'LOWER': 'solar'}, {'IS_PUNCT': True, 'OP':'*'}, {'LOWER': 'powered'}]"
   ]
  },
  {
   "cell_type": "code",
   "execution_count": 21,
   "metadata": {},
   "outputs": [],
   "source": [
    "matcher.remove('SolarPower')"
   ]
  },
  {
   "cell_type": "code",
   "execution_count": null,
   "metadata": {},
   "outputs": [],
   "source": [
    "matcher.add('SolarPower', None, pattern1, pattern2, pattern3, pattern4)"
   ]
  },
  {
   "cell_type": "code",
   "execution_count": null,
   "metadata": {},
   "outputs": [],
   "source": [
    "found_matches = matcher(doc)\n",
    "for a,b,c in  found_matches : \n",
    "    print(f'Word ID {a} , starts at {b} & ends at {c} , and word is {doc[b:c]}')"
   ]
  },
  {
   "cell_type": "code",
   "execution_count": null,
   "metadata": {},
   "outputs": [],
   "source": []
  },
  {
   "cell_type": "code",
   "execution_count": null,
   "metadata": {},
   "outputs": [],
   "source": []
  },
  {
   "cell_type": "code",
   "execution_count": 22,
   "metadata": {},
   "outputs": [],
   "source": [
    "import spacy\n",
    "nlp = spacy.load('en_core_web_sm')"
   ]
  },
  {
   "cell_type": "code",
   "execution_count": 23,
   "metadata": {},
   "outputs": [],
   "source": [
    "from spacy.matcher import PhraseMatcher\n",
    "matcher = PhraseMatcher(nlp.vocab)"
   ]
  },
  {
   "cell_type": "code",
   "execution_count": 24,
   "metadata": {},
   "outputs": [],
   "source": [
    "with open('reaganomics.txt') as f:\n",
    "    doc3 = nlp(f.read())"
   ]
  },
  {
   "cell_type": "code",
   "execution_count": 25,
   "metadata": {},
   "outputs": [],
   "source": [
    "phrase_list = ['voodoo economics', 'supply-side economics', 'trickle-down economics', 'free-market economics']"
   ]
  },
  {
   "cell_type": "code",
   "execution_count": 28,
   "metadata": {},
   "outputs": [
    {
     "data": {
      "text/plain": [
       "[voodoo economics,\n",
       " supply-side economics,\n",
       " trickle-down economics,\n",
       " free-market economics]"
      ]
     },
     "execution_count": 28,
     "metadata": {},
     "output_type": "execute_result"
    }
   ],
   "source": [
    "phrase_patterns = [nlp(text) for text in phrase_list]\n",
    "phrase_patterns"
   ]
  },
  {
   "cell_type": "code",
   "execution_count": 29,
   "metadata": {},
   "outputs": [],
   "source": [
    "matcher.add('VoodooEconomics', None, *phrase_patterns)"
   ]
  },
  {
   "cell_type": "code",
   "execution_count": 32,
   "metadata": {},
   "outputs": [
    {
     "name": "stdout",
     "output_type": "stream",
     "text": [
      "Word ID 3473369816841043438 , starts at 41 & ends at 45 , and phrase is commonly associated with supply-side economics, referred to\n",
      "---------------------------------------------------------------------------------\n",
      "Word ID 3473369816841043438 , starts at 49 & ends at 53 , and phrase is referred to as trickle-down economics or voodoo economics\n",
      "---------------------------------------------------------------------------------\n",
      "Word ID 3473369816841043438 , starts at 54 & ends at 56 , and phrase is down economics or voodoo economics by political opponents\n",
      "---------------------------------------------------------------------------------\n",
      "Word ID 3473369816841043438 , starts at 61 & ends at 65 , and phrase is opponents, and free-market economics by political advocates\n",
      "---------------------------------------------------------------------------------\n",
      "Word ID 3473369816841043438 , starts at 673 & ends at 677 , and phrase is following from the supply-side economics movement, which\n",
      "---------------------------------------------------------------------------------\n",
      "Word ID 3473369816841043438 , starts at 2987 & ends at 2991 , and phrase is known as \"trickle-down economics\", due\n",
      "---------------------------------------------------------------------------------\n"
     ]
    }
   ],
   "source": [
    "matches = matcher(doc3)\n",
    "\n",
    "for a,b,c in  matches : \n",
    "    print(f'Word ID {a} , starts at {b} & ends at {c} , and phrase is {doc3[b-3:c+3]}')\n",
    "    print('---------------------------------------------------------------------------------')"
   ]
  },
  {
   "cell_type": "code",
   "execution_count": null,
   "metadata": {},
   "outputs": [],
   "source": []
  },
  {
   "cell_type": "code",
   "execution_count": null,
   "metadata": {},
   "outputs": [],
   "source": []
  },
  {
   "cell_type": "code",
   "execution_count": null,
   "metadata": {},
   "outputs": [],
   "source": []
  },
  {
   "cell_type": "code",
   "execution_count": null,
   "metadata": {},
   "outputs": [],
   "source": []
  },
  {
   "cell_type": "code",
   "execution_count": 33,
   "metadata": {},
   "outputs": [],
   "source": [
    "import spacy\n",
    "nlp = spacy.load('en_core_web_sm')"
   ]
  },
  {
   "cell_type": "code",
   "execution_count": 34,
   "metadata": {},
   "outputs": [],
   "source": [
    "from spacy.matcher import Matcher\n",
    "matcher = Matcher(nlp.vocab)"
   ]
  },
  {
   "cell_type": "code",
   "execution_count": 35,
   "metadata": {},
   "outputs": [],
   "source": [
    "pattern1 = [{'LOWER': 'الذكاءالإصطناعي'}]\n",
    "pattern2 = [{'LOWER': 'الذكاء'}, {'LOWER': 'الإصطناعي'}]\n",
    "pattern3 = [{'LOWER': 'الذكاء'},  {'LOWER': 'الصناعي'}]\n",
    "\n",
    "matcher.add('الذكاء الإصطناعي', None, pattern1, pattern2, pattern3)"
   ]
  },
  {
   "cell_type": "code",
   "execution_count": 36,
   "metadata": {},
   "outputs": [],
   "source": [
    "doc = nlp('''\n",
    "يتميز الذكاءالإصطناعي أنه يسير بسرعة كبيرة نحو المستقبل\n",
    "\n",
    "و قد بدأ الكثير من الطلاب في دراسة الذكاء الإصطناعي\n",
    "\n",
    "و تزداد فرص العمل في الذكاء الصناعي في كل مكان\n",
    "\n",
    "\n",
    "''')"
   ]
  },
  {
   "cell_type": "code",
   "execution_count": 37,
   "metadata": {},
   "outputs": [
    {
     "name": "stdout",
     "output_type": "stream",
     "text": [
      "Word ID 15819748337290189210 , starts at 2 & ends at 3 , and word is الذكاءالإصطناعي\n",
      "Word ID 15819748337290189210 , starts at 18 & ends at 20 , and word is الذكاء الإصطناعي\n",
      "Word ID 15819748337290189210 , starts at 26 & ends at 28 , and word is الذكاء الصناعي\n"
     ]
    }
   ],
   "source": [
    "found_matches = matcher(doc)\n",
    "for a,b,c in  found_matches : \n",
    "    print(f'Word ID {a} , starts at {b} & ends at {c} , and word is {doc[b:c]}')"
   ]
  },
  {
   "cell_type": "code",
   "execution_count": 38,
   "metadata": {},
   "outputs": [],
   "source": [
    "matcher.remove('الذكاء الإصطناعي')"
   ]
  },
  {
   "cell_type": "code",
   "execution_count": null,
   "metadata": {},
   "outputs": [],
   "source": []
  },
  {
   "cell_type": "code",
   "execution_count": null,
   "metadata": {},
   "outputs": [],
   "source": []
  },
  {
   "cell_type": "code",
   "execution_count": null,
   "metadata": {},
   "outputs": [],
   "source": []
  },
  {
   "cell_type": "code",
   "execution_count": 39,
   "metadata": {},
   "outputs": [],
   "source": [
    "import spacy\n",
    "nlp = spacy.load('en_core_web_sm')"
   ]
  },
  {
   "cell_type": "code",
   "execution_count": 40,
   "metadata": {},
   "outputs": [],
   "source": [
    "from spacy.matcher import PhraseMatcher\n",
    "matcher = PhraseMatcher(nlp.vocab)"
   ]
  },
  {
   "cell_type": "code",
   "execution_count": 41,
   "metadata": {},
   "outputs": [],
   "source": [
    "with open('raheeq.txt', encoding=\"utf8\") as f:\n",
    "    doc3 = nlp(f.read())"
   ]
  },
  {
   "cell_type": "code",
   "execution_count": 42,
   "metadata": {},
   "outputs": [],
   "source": [
    "phrase_list = ['بني هاشم', 'بنو هاشم', 'قريش','بني المطلب','بنو المطلب' , 'عبد مناف']"
   ]
  },
  {
   "cell_type": "code",
   "execution_count": 43,
   "metadata": {},
   "outputs": [],
   "source": [
    "phrase_patterns = [nlp(text) for text in phrase_list]"
   ]
  },
  {
   "cell_type": "code",
   "execution_count": 44,
   "metadata": {},
   "outputs": [],
   "source": [
    "matcher.add('قريش', None, *phrase_patterns)"
   ]
  },
  {
   "cell_type": "code",
   "execution_count": 45,
   "metadata": {},
   "outputs": [
    {
     "name": "stdout",
     "output_type": "stream",
     "text": [
      "Word ID 7482666889028465404 , starts at 16 & ends at 17 , and word is عُكاظ حرب بين قريش ـ ومعهم كنانة\n",
      "Word ID 7482666889028465404 , starts at 54 & ends at 55 , and word is ، وكان قائد قريش وكنانة كلها حرب\n",
      "Word ID 7482666889028465404 , starts at 90 & ends at 91 , and word is ثم تداعى بعض قريش إلى الصلح على\n",
      "Word ID 7482666889028465404 , starts at 220 & ends at 221 , and word is إليه قبائل من قريش : بنو هاشم\n",
      "Word ID 7482666889028465404 , starts at 222 & ends at 224 , and word is من قريش : بنو هاشم، وبنو المطلب،وأسد\n",
      "Word ID 7482666889028465404 , starts at 584 & ends at 585 , and word is لهم، وكانت قريش قومًا تجارًا،\n",
      "Word ID 7482666889028465404 , starts at 810 & ends at 812 , and word is ، وحضر العقد بنو هاشم ورؤساء مضر،\n",
      "Word ID 7482666889028465404 , starts at 997 & ends at 998 , and word is عليه وسلم قامت قريش ببناء الكعبة؛\n",
      "Word ID 7482666889028465404 , starts at 1075 & ends at 1076 , and word is الانهيار، فاضطرت قريش إلى تجديد بنائها\n",
      "Word ID 7482666889028465404 , starts at 5107 & ends at 5109 , and word is ابن المطلب بن عبد مناف، وسعيد بن\n",
      "Word ID 7482666889028465404 , starts at 5211 & ends at 5212 , and word is وأفخاذ شتى من قريش .\n",
      "ومن\n",
      "Word ID 7482666889028465404 , starts at 5221 & ends at 5222 , and word is الإسلام من غير قريش : عبد الله\n",
      "Word ID 7482666889028465404 , starts at 5666 & ends at 5667 , and word is أنها عرفت لدى قريش، وفشا ذكر\n",
      "Word ID 7482666889028465404 , starts at 6033 & ends at 6035 , and word is عليه وسلم عشيرته بني هاشم بعد نزول هذه\n",
      "Word ID 7482666889028465404 , starts at 6044 & ends at 6046 , and word is ومعهم نفر من بني المطلب بن عبد مناف\n",
      "Word ID 7482666889028465404 , starts at 6047 & ends at 6049 , and word is بني المطلب بن عبد مناف، فكانوا نحو\n",
      "Word ID 7482666889028465404 , starts at 6111 & ends at 6112 , and word is يثب بك بطون قريش، وتمدهم العرب\n",
      "Word ID 7482666889028465404 , starts at 6409 & ends at 6410 , and word is جعل ينادى بطون قريش، ويدعوهم قبائل\n",
      "Word ID 7482666889028465404 , starts at 6434 & ends at 6436 , and word is ، يا بني عبد مناف، يا بني\n",
      "Word ID 7482666889028465404 , starts at 6585 & ends at 6586 , and word is ( يا معشر قريش، اشتروا أنفسكم\n",
      "Word ID 7482666889028465404 , starts at 6669 & ends at 6671 , and word is يا معشر بني عبد مناف، أنقذوا أنفسكم\n",
      "Word ID 7482666889028465404 , starts at 6707 & ends at 6709 , and word is .\n",
      "يا بني هاشم، أنقذوا أنفسكم\n",
      "Word ID 7482666889028465404 , starts at 7053 & ends at 7054 , and word is وتباعد وعناد واشمأزت قريش من كل ذلك\n",
      "Word ID 7482666889028465404 , starts at 7141 & ends at 7142 , and word is الحج، وعرفت قريش أن وفود العرب\n"
     ]
    }
   ],
   "source": [
    "matches = matcher(doc3)\n",
    "\n",
    "for a,b,c in  matches : \n",
    "    print(f'Word ID {a} , starts at {b} & ends at {c} , and word is {doc3[b-3:c+3]}')"
   ]
  },
  {
   "cell_type": "code",
   "execution_count": null,
   "metadata": {},
   "outputs": [],
   "source": []
  },
  {
   "cell_type": "code",
   "execution_count": null,
   "metadata": {},
   "outputs": [],
   "source": []
  },
  {
   "cell_type": "code",
   "execution_count": null,
   "metadata": {},
   "outputs": [],
   "source": []
  },
  {
   "cell_type": "code",
   "execution_count": null,
   "metadata": {},
   "outputs": [],
   "source": []
  },
  {
   "cell_type": "code",
   "execution_count": null,
   "metadata": {},
   "outputs": [],
   "source": []
  },
  {
   "cell_type": "code",
   "execution_count": null,
   "metadata": {},
   "outputs": [],
   "source": []
  },
  {
   "cell_type": "code",
   "execution_count": null,
   "metadata": {},
   "outputs": [],
   "source": []
  },
  {
   "cell_type": "code",
   "execution_count": null,
   "metadata": {},
   "outputs": [],
   "source": []
  },
  {
   "cell_type": "code",
   "execution_count": null,
   "metadata": {},
   "outputs": [],
   "source": []
  },
  {
   "cell_type": "code",
   "execution_count": null,
   "metadata": {},
   "outputs": [],
   "source": []
  },
  {
   "cell_type": "code",
   "execution_count": null,
   "metadata": {},
   "outputs": [],
   "source": []
  },
  {
   "cell_type": "code",
   "execution_count": null,
   "metadata": {},
   "outputs": [],
   "source": []
  },
  {
   "cell_type": "code",
   "execution_count": null,
   "metadata": {},
   "outputs": [],
   "source": []
  },
  {
   "cell_type": "code",
   "execution_count": null,
   "metadata": {},
   "outputs": [],
   "source": [
    "ahmed\n",
    "ahmad\n",
    "ahmmad\n",
    "ahmmed\n",
    "ahmaad\n",
    "ahmmaad\n",
    "ahmet\n",
    "ahmat\n",
    "\n",
    "mostafa\n",
    "moustafa\n",
    "mosstafa\n",
    "mousstafa\n"
   ]
  }
 ],
 "metadata": {
  "kernelspec": {
   "display_name": "Python 3",
   "language": "python",
   "name": "python3"
  },
  "language_info": {
   "codemirror_mode": {
    "name": "ipython",
    "version": 3
   },
   "file_extension": ".py",
   "mimetype": "text/x-python",
   "name": "python",
   "nbconvert_exporter": "python",
   "pygments_lexer": "ipython3",
   "version": "3.7.6"
  }
 },
 "nbformat": 4,
 "nbformat_minor": 4
}
