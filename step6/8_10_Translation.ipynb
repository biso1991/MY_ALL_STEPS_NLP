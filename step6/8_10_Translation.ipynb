{
 "cells": [
  {
   "cell_type": "code",
   "execution_count": null,
   "metadata": {
    "colab": {
     "base_uri": "https://localhost:8080/"
    },
    "id": "V-PIbWugtivv",
    "outputId": "af9b4a26-9090-4037-913f-331101493354"
   },
   "outputs": [
    {
     "name": "stdout",
     "output_type": "stream",
     "text": [
      "Collecting deep_translator\n",
      "  Downloading deep_translator-1.5.5-py3-none-any.whl (30 kB)\n",
      "Collecting beautifulsoup4<5.0.0,>=4.9.1\n",
      "  Downloading beautifulsoup4-4.10.0-py3-none-any.whl (97 kB)\n",
      "\u001b[?25l\r",
      "\u001b[K     |███▍                            | 10 kB 34.4 MB/s eta 0:00:01\r",
      "\u001b[K     |██████▊                         | 20 kB 41.2 MB/s eta 0:00:01\r",
      "\u001b[K     |██████████                      | 30 kB 48.2 MB/s eta 0:00:01\r",
      "\u001b[K     |█████████████▌                  | 40 kB 54.0 MB/s eta 0:00:01\r",
      "\u001b[K     |████████████████▉               | 51 kB 54.1 MB/s eta 0:00:01\r",
      "\u001b[K     |████████████████████▏           | 61 kB 58.6 MB/s eta 0:00:01\r",
      "\u001b[K     |███████████████████████▌        | 71 kB 60.5 MB/s eta 0:00:01\r",
      "\u001b[K     |███████████████████████████     | 81 kB 62.2 MB/s eta 0:00:01\r",
      "\u001b[K     |██████████████████████████████▎ | 92 kB 65.3 MB/s eta 0:00:01\r",
      "\u001b[K     |████████████████████████████████| 97 kB 7.8 MB/s \n",
      "\u001b[?25hCollecting click<9.0.0,>=8.0.1\n",
      "  Downloading click-8.0.3-py3-none-any.whl (97 kB)\n",
      "\u001b[?25l\r",
      "\u001b[K     |███▍                            | 10 kB 40.4 MB/s eta 0:00:01\r",
      "\u001b[K     |██████▊                         | 20 kB 47.4 MB/s eta 0:00:01\r",
      "\u001b[K     |██████████                      | 30 kB 57.8 MB/s eta 0:00:01\r",
      "\u001b[K     |█████████████▍                  | 40 kB 62.5 MB/s eta 0:00:01\r",
      "\u001b[K     |████████████████▉               | 51 kB 63.0 MB/s eta 0:00:01\r",
      "\u001b[K     |████████████████████▏           | 61 kB 68.7 MB/s eta 0:00:01\r",
      "\u001b[K     |███████████████████████▌        | 71 kB 71.5 MB/s eta 0:00:01\r",
      "\u001b[K     |██████████████████████████▉     | 81 kB 75.0 MB/s eta 0:00:01\r",
      "\u001b[K     |██████████████████████████████▎ | 92 kB 76.3 MB/s eta 0:00:01\r",
      "\u001b[K     |████████████████████████████████| 97 kB 8.0 MB/s \n",
      "\u001b[?25hRequirement already satisfied: requests<3.0.0,>=2.23.0 in /usr/local/lib/python3.7/dist-packages (from deep_translator) (2.23.0)\n",
      "Collecting soupsieve>1.2\n",
      "  Downloading soupsieve-2.3.1-py3-none-any.whl (37 kB)\n",
      "Requirement already satisfied: importlib-metadata in /usr/local/lib/python3.7/dist-packages (from click<9.0.0,>=8.0.1->deep_translator) (4.8.2)\n",
      "Requirement already satisfied: idna<3,>=2.5 in /usr/local/lib/python3.7/dist-packages (from requests<3.0.0,>=2.23.0->deep_translator) (2.10)\n",
      "Requirement already satisfied: certifi>=2017.4.17 in /usr/local/lib/python3.7/dist-packages (from requests<3.0.0,>=2.23.0->deep_translator) (2021.10.8)\n",
      "Requirement already satisfied: chardet<4,>=3.0.2 in /usr/local/lib/python3.7/dist-packages (from requests<3.0.0,>=2.23.0->deep_translator) (3.0.4)\n",
      "Requirement already satisfied: urllib3!=1.25.0,!=1.25.1,<1.26,>=1.21.1 in /usr/local/lib/python3.7/dist-packages (from requests<3.0.0,>=2.23.0->deep_translator) (1.24.3)\n",
      "Requirement already satisfied: typing-extensions>=3.6.4 in /usr/local/lib/python3.7/dist-packages (from importlib-metadata->click<9.0.0,>=8.0.1->deep_translator) (3.10.0.2)\n",
      "Requirement already satisfied: zipp>=0.5 in /usr/local/lib/python3.7/dist-packages (from importlib-metadata->click<9.0.0,>=8.0.1->deep_translator) (3.6.0)\n",
      "Installing collected packages: soupsieve, click, beautifulsoup4, deep-translator\n",
      "  Attempting uninstall: click\n",
      "    Found existing installation: click 7.1.2\n",
      "    Uninstalling click-7.1.2:\n",
      "      Successfully uninstalled click-7.1.2\n",
      "  Attempting uninstall: beautifulsoup4\n",
      "    Found existing installation: beautifulsoup4 4.6.3\n",
      "    Uninstalling beautifulsoup4-4.6.3:\n",
      "      Successfully uninstalled beautifulsoup4-4.6.3\n",
      "\u001b[31mERROR: pip's dependency resolver does not currently take into account all the packages that are installed. This behaviour is the source of the following dependency conflicts.\n",
      "flask 1.1.4 requires click<8.0,>=5.1, but you have click 8.0.3 which is incompatible.\u001b[0m\n",
      "Successfully installed beautifulsoup4-4.10.0 click-8.0.3 deep-translator-1.5.5 soupsieve-2.3.1\n"
     ]
    }
   ],
   "source": [
    "pip install -U deep_translator"
   ]
  },
  {
   "cell_type": "code",
   "execution_count": null,
   "metadata": {
    "colab": {
     "base_uri": "https://localhost:8080/"
    },
    "id": "beIdC_iOtl-e",
    "outputId": "ed1debb4-8e76-42ca-84fe-9cce07789407"
   },
   "outputs": [
    {
     "name": "stdout",
     "output_type": "stream",
     "text": [
      "[nltk_data] Downloading package vader_lexicon to /root/nltk_data...\n"
     ]
    },
    {
     "name": "stderr",
     "output_type": "stream",
     "text": [
      "/usr/local/lib/python3.7/dist-packages/nltk/twitter/__init__.py:20: UserWarning: The twython library has not been installed. Some functionality from the twitter package will not be available.\n",
      "  warnings.warn(\"The twython library has not been installed. \"\n"
     ]
    }
   ],
   "source": [
    "from deep_translator import GoogleTranslator\n",
    "import nltk\n",
    "nltk.download('vader_lexicon')\n",
    "from nltk.sentiment.vader import SentimentIntensityAnalyzer\n",
    "SIA = SentimentIntensityAnalyzer()"
   ]
  },
  {
   "cell_type": "code",
   "execution_count": null,
   "metadata": {
    "colab": {
     "base_uri": "https://localhost:8080/",
     "height": 36
    },
    "id": "zT2Q0ncYSsQi",
    "outputId": "96d1b069-9946-4462-f29c-7ac30223e1dd"
   },
   "outputs": [
    {
     "data": {
      "application/vnd.google.colaboratory.intrinsic+json": {
       "type": "string"
      },
      "text/plain": [
       "'How are you'"
      ]
     },
     "execution_count": 6,
     "metadata": {},
     "output_type": "execute_result"
    }
   ],
   "source": [
    "GoogleTranslator(source='ar', target='en').translate('كيف حالك')"
   ]
  },
  {
   "cell_type": "code",
   "execution_count": null,
   "metadata": {
    "id": "kYin82xrSkHF"
   },
   "outputs": [],
   "source": [
    "def T(text) : \n",
    "  return GoogleTranslator(source='ar', target='en').translate(text)"
   ]
  },
  {
   "cell_type": "code",
   "execution_count": null,
   "metadata": {
    "colab": {
     "base_uri": "https://localhost:8080/",
     "height": 36
    },
    "id": "CoMlg_tqtrBC",
    "outputId": "a3866805-fc10-449c-d943-c22028041204"
   },
   "outputs": [
    {
     "data": {
      "application/vnd.google.colaboratory.intrinsic+json": {
       "type": "string"
      },
      "text/plain": [
       "'what are you doing'"
      ]
     },
     "execution_count": 8,
     "metadata": {},
     "output_type": "execute_result"
    }
   ],
   "source": [
    "T('عامل ايه')"
   ]
  },
  {
   "cell_type": "code",
   "execution_count": null,
   "metadata": {
    "colab": {
     "base_uri": "https://localhost:8080/",
     "height": 36
    },
    "id": "p0jPWQCnt7U4",
    "outputId": "0f2d618b-c0de-4e30-aaa6-9bc6ea50fa6f"
   },
   "outputs": [
    {
     "data": {
      "application/vnd.google.colaboratory.intrinsic+json": {
       "type": "string"
      },
      "text/plain": [
       "'I am not an unseen knowledge, but I see with the eyes of opinion what is the reality'"
      ]
     },
     "execution_count": 9,
     "metadata": {},
     "output_type": "execute_result"
    }
   ],
   "source": [
    "T('و لست بعلام الغيوب و إنما أري بلحاظ الرأي ما هو واقع')"
   ]
  },
  {
   "cell_type": "code",
   "execution_count": null,
   "metadata": {
    "colab": {
     "base_uri": "https://localhost:8080/",
     "height": 54
    },
    "id": "FthJDloRSoCg",
    "outputId": "f8473778-702b-4212-a380-aea9aaf8c20b"
   },
   "outputs": [
    {
     "data": {
      "application/vnd.google.colaboratory.intrinsic+json": {
       "type": "string"
      },
      "text/plain": [
       "'On this day in the morning of December 7, 1941, Japanese aircraft launched a surprise attack on the Kanohe military base on the Mokabo Peninsula, located less than 15 miles (24 kilometers) east of Pearl Harbor. The United States suffered the largest military losses in its history. She was forced to enter World War II.'"
      ]
     },
     "execution_count": 10,
     "metadata": {},
     "output_type": "execute_result"
    }
   ],
   "source": [
    "T('في مثل هذا اليوم قامت الطائرات اليابانية بهجومٍ مباغت على قاعدة كانوهي العسكرية في شبه جزيرة موكابو، الواقعة على بعد أقل من 15 ميلًا (24 كيلومترًا) شرق ميناء بيرل هاربر في صباح 7 ديسمبر 1941، تكبدت الولايات المتحدة أكبر الخسائر العسكرية في تاريخها على الإطلاق، واضطرت لدخول الحرب العالمية الثانية.')"
   ]
  },
  {
   "cell_type": "code",
   "execution_count": null,
   "metadata": {
    "colab": {
     "base_uri": "https://localhost:8080/",
     "height": 36
    },
    "id": "K9jwgSAIS0zf",
    "outputId": "27f2d58b-6069-463b-e15a-0c5e6a36c201"
   },
   "outputs": [
    {
     "data": {
      "application/vnd.google.colaboratory.intrinsic+json": {
       "type": "string"
      },
      "text/plain": [
       "'How are you'"
      ]
     },
     "execution_count": 11,
     "metadata": {},
     "output_type": "execute_result"
    }
   ],
   "source": [
    "T('ازيك')"
   ]
  },
  {
   "cell_type": "code",
   "execution_count": null,
   "metadata": {
    "colab": {
     "base_uri": "https://localhost:8080/"
    },
    "id": "TR42nAmyTtsf",
    "outputId": "16f46947-e681-4d47-8d53-7363679b8990"
   },
   "outputs": [
    {
     "name": "stdout",
     "output_type": "stream",
     "text": [
      "Value for Negative is    :  0.608\n",
      "Value for Neutral  is    :  0.392\n",
      "Value for Positive is    :  0.0\n",
      "Value for Compound is    :  -0.4767\n"
     ]
    }
   ],
   "source": [
    "Values = list(SIA.polarity_scores('it`s a terrible restaurant').values())\n",
    "\n",
    "print(f'Value for Negative is    :  {Values[0]}')\n",
    "print(f'Value for Neutral  is    :  {Values[1]}')\n",
    "print(f'Value for Positive is    :  {Values[2]}')\n",
    "print(f'Value for Compound is    :  {Values[3]}')"
   ]
  },
  {
   "cell_type": "code",
   "execution_count": null,
   "metadata": {
    "colab": {
     "base_uri": "https://localhost:8080/"
    },
    "id": "JbKfK2TvUAxm",
    "outputId": "6aefb0d4-9b22-44a5-8f1d-ce1658fcd0e4"
   },
   "outputs": [
    {
     "name": "stdout",
     "output_type": "stream",
     "text": [
      "Value for Negative is    :  0.0\n",
      "Value for Neutral  is    :  1.0\n",
      "Value for Positive is    :  0.0\n",
      "Value for Compound is    :  0.0\n"
     ]
    }
   ],
   "source": [
    "Values = list(SIA.polarity_scores(T('فيلم زي الزفت بصراحة')).values())\n",
    "\n",
    "print(f'Value for Negative is    :  {Values[0]}')\n",
    "print(f'Value for Neutral  is    :  {Values[1]}')\n",
    "print(f'Value for Positive is    :  {Values[2]}')\n",
    "print(f'Value for Compound is    :  {Values[3]}')"
   ]
  },
  {
   "cell_type": "code",
   "execution_count": null,
   "metadata": {
    "colab": {
     "base_uri": "https://localhost:8080/"
    },
    "id": "dAV-d-b1UeG-",
    "outputId": "a823dc08-d98e-4830-8d5f-6eaa46e3afba"
   },
   "outputs": [
    {
     "name": "stdout",
     "output_type": "stream",
     "text": [
      "Value for Negative is    :  0.0\n",
      "Value for Neutral  is    :  0.196\n",
      "Value for Positive is    :  0.804\n",
      "Value for Compound is    :  0.6249\n"
     ]
    }
   ],
   "source": [
    "Values = list(SIA.polarity_scores(T('مطعم رهيييب')).values())\n",
    "\n",
    "print(f'Value for Negative is    :  {Values[0]}')\n",
    "print(f'Value for Neutral  is    :  {Values[1]}')\n",
    "print(f'Value for Positive is    :  {Values[2]}')\n",
    "print(f'Value for Compound is    :  {Values[3]}')"
   ]
  },
  {
   "cell_type": "code",
   "execution_count": null,
   "metadata": {
    "id": "bkke20zGUhle"
   },
   "outputs": [],
   "source": []
  }
 ],
 "metadata": {
  "colab": {
   "collapsed_sections": [],
   "name": "8.10 Translation.ipynb",
   "provenance": []
  },
  "kernelspec": {
   "display_name": "Python 3 (ipykernel)",
   "language": "python",
   "name": "python3"
  },
  "language_info": {
   "codemirror_mode": {
    "name": "ipython",
    "version": 3
   },
   "file_extension": ".py",
   "mimetype": "text/x-python",
   "name": "python",
   "nbconvert_exporter": "python",
   "pygments_lexer": "ipython3",
   "version": "3.8.8"
  }
 },
 "nbformat": 4,
 "nbformat_minor": 1
}
