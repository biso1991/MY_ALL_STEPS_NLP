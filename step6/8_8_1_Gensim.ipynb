{
 "cells": [
  {
   "cell_type": "code",
   "execution_count": 1,
   "metadata": {
    "colab": {
     "base_uri": "https://localhost:8080/"
    },
    "id": "31whpMywU0Eu",
    "outputId": "3c421e83-2fc1-4f56-d612-ca89cfe62ce5"
   },
   "outputs": [
    {
     "name": "stdout",
     "output_type": "stream",
     "text": [
      "Requirement already satisfied: gensim in /usr/local/lib/python3.7/dist-packages (3.6.0)\n",
      "Requirement already satisfied: scipy>=0.18.1 in /usr/local/lib/python3.7/dist-packages (from gensim) (1.4.1)\n",
      "Requirement already satisfied: smart-open>=1.2.1 in /usr/local/lib/python3.7/dist-packages (from gensim) (5.2.1)\n",
      "Requirement already satisfied: numpy>=1.11.3 in /usr/local/lib/python3.7/dist-packages (from gensim) (1.19.5)\n",
      "Requirement already satisfied: six>=1.5.0 in /usr/local/lib/python3.7/dist-packages (from gensim) (1.15.0)\n"
     ]
    }
   ],
   "source": [
    "pip install gensim"
   ]
  },
  {
   "cell_type": "code",
   "execution_count": null,
   "metadata": {
    "id": "TMpOZX4FYkma"
   },
   "outputs": [],
   "source": [
    "import gensim,os\n",
    "from gensim import corpora,models\n",
    "from gensim.utils import simple_preprocess\n",
    "import gensim.downloader as api\n",
    "import numpy as np"
   ]
  },
  {
   "cell_type": "code",
   "execution_count": 15,
   "metadata": {
    "id": "JVYU4XQfYrBu"
   },
   "outputs": [],
   "source": [
    "text = [\"\"\"In computer science, artificial intelligence (AI),\n",
    "             sometimes called machine intelligence, is intelligence\n",
    "             demonstrated by machines, in contrast to the natural intelligence\n",
    "             displayed by humans and animals. Computer science defines\n",
    "             AI research as the study of intelligent agents: any device that\n",
    "             perceives its environment and takes actions that maximize its chance\n",
    "             of successfully achieving its goals.\"\"\"]"
   ]
  },
  {
   "cell_type": "code",
   "execution_count": 17,
   "metadata": {
    "colab": {
     "base_uri": "https://localhost:8080/"
    },
    "id": "I2H78rj_Yu8s",
    "outputId": "4f3cbbf4-6c44-45c6-d5ea-6ba194a6a8df"
   },
   "outputs": [
    {
     "data": {
      "text/plain": [
       "[['In',\n",
       "  'computer',\n",
       "  'science,',\n",
       "  'artificial',\n",
       "  'intelligence',\n",
       "  '(AI),',\n",
       "  'sometimes',\n",
       "  'called',\n",
       "  'machine',\n",
       "  'intelligence,',\n",
       "  'is',\n",
       "  'intelligence',\n",
       "  'demonstrated',\n",
       "  'by',\n",
       "  'machines,',\n",
       "  'in',\n",
       "  'contrast',\n",
       "  'to',\n",
       "  'the',\n",
       "  'natural',\n",
       "  'intelligence',\n",
       "  'displayed',\n",
       "  'by',\n",
       "  'humans',\n",
       "  'and',\n",
       "  'animals.',\n",
       "  'Computer',\n",
       "  'science',\n",
       "  'defines',\n",
       "  'AI',\n",
       "  'research',\n",
       "  'as',\n",
       "  'the',\n",
       "  'study',\n",
       "  'of',\n",
       "  'intelligent',\n",
       "  'agents:',\n",
       "  'any',\n",
       "  'device',\n",
       "  'that',\n",
       "  'perceives',\n",
       "  'its',\n",
       "  'environment',\n",
       "  'and',\n",
       "  'takes',\n",
       "  'actions',\n",
       "  'that',\n",
       "  'maximize',\n",
       "  'its',\n",
       "  'chance',\n",
       "  'of',\n",
       "  'successfully',\n",
       "  'achieving',\n",
       "  'its',\n",
       "  'goals.']]"
      ]
     },
     "execution_count": 17,
     "metadata": {},
     "output_type": "execute_result"
    }
   ],
   "source": [
    "tokens = [[token for token in sentence.split()] for sentence in text]\n",
    "tokens"
   ]
  },
  {
   "cell_type": "code",
   "execution_count": 22,
   "metadata": {
    "colab": {
     "base_uri": "https://localhost:8080/"
    },
    "id": "FD0jqxPbYzRL",
    "outputId": "bc332526-279d-403c-ad29-4dd2db9b4434"
   },
   "outputs": [
    {
     "data": {
      "text/plain": [
       "46"
      ]
     },
     "execution_count": 22,
     "metadata": {},
     "output_type": "execute_result"
    }
   ],
   "source": [
    "gensim_dictionary = corpora.Dictionary(tokens)\n",
    "len(gensim_dictionary)"
   ]
  },
  {
   "cell_type": "code",
   "execution_count": 24,
   "metadata": {
    "colab": {
     "base_uri": "https://localhost:8080/"
    },
    "id": "5ETViGG8YzLV",
    "outputId": "03fe7799-ef89-4714-9951-67ebd58edeb5"
   },
   "outputs": [
    {
     "data": {
      "text/plain": [
       "{'(AI),': 0,\n",
       " 'AI': 1,\n",
       " 'Computer': 2,\n",
       " 'In': 3,\n",
       " 'achieving': 4,\n",
       " 'actions': 5,\n",
       " 'agents:': 6,\n",
       " 'and': 7,\n",
       " 'animals.': 8,\n",
       " 'any': 9,\n",
       " 'artificial': 10,\n",
       " 'as': 11,\n",
       " 'by': 12,\n",
       " 'called': 13,\n",
       " 'chance': 14,\n",
       " 'computer': 15,\n",
       " 'contrast': 16,\n",
       " 'defines': 17,\n",
       " 'demonstrated': 18,\n",
       " 'device': 19,\n",
       " 'displayed': 20,\n",
       " 'environment': 21,\n",
       " 'goals.': 22,\n",
       " 'humans': 23,\n",
       " 'in': 24,\n",
       " 'intelligence': 25,\n",
       " 'intelligence,': 26,\n",
       " 'intelligent': 27,\n",
       " 'is': 28,\n",
       " 'its': 29,\n",
       " 'machine': 30,\n",
       " 'machines,': 31,\n",
       " 'maximize': 32,\n",
       " 'natural': 33,\n",
       " 'of': 34,\n",
       " 'perceives': 35,\n",
       " 'research': 36,\n",
       " 'science': 37,\n",
       " 'science,': 38,\n",
       " 'sometimes': 39,\n",
       " 'study': 40,\n",
       " 'successfully': 41,\n",
       " 'takes': 42,\n",
       " 'that': 43,\n",
       " 'the': 44,\n",
       " 'to': 45}"
      ]
     },
     "execution_count": 24,
     "metadata": {},
     "output_type": "execute_result"
    }
   ],
   "source": [
    "gensim_dictionary.token2id"
   ]
  },
  {
   "cell_type": "code",
   "execution_count": 4,
   "metadata": {
    "colab": {
     "base_uri": "https://localhost:8080/"
    },
    "id": "ivqKvTARU8iJ",
    "outputId": "38732b8f-d5ec-47d1-bb54-4085d1634d5a"
   },
   "outputs": [
    {
     "name": "stdout",
     "output_type": "stream",
     "text": [
      "40\n"
     ]
    }
   ],
   "source": [
    "print(gensim_dictionary.token2id[\"study\"])"
   ]
  },
  {
   "cell_type": "code",
   "execution_count": 26,
   "metadata": {
    "colab": {
     "base_uri": "https://localhost:8080/"
    },
    "id": "LiAKb6kaZbx_",
    "outputId": "989f0282-54d8-453d-f5db-a5aea34dc129"
   },
   "outputs": [
    {
     "data": {
      "text/plain": [
       "{0: '(AI),',\n",
       " 1: 'AI',\n",
       " 2: 'Computer',\n",
       " 3: 'In',\n",
       " 4: 'achieving',\n",
       " 5: 'actions',\n",
       " 6: 'agents:',\n",
       " 7: 'and',\n",
       " 8: 'animals.',\n",
       " 9: 'any',\n",
       " 10: 'artificial',\n",
       " 11: 'as',\n",
       " 12: 'by',\n",
       " 13: 'called',\n",
       " 14: 'chance',\n",
       " 15: 'computer',\n",
       " 16: 'contrast',\n",
       " 17: 'defines',\n",
       " 18: 'demonstrated',\n",
       " 19: 'device',\n",
       " 20: 'displayed',\n",
       " 21: 'environment',\n",
       " 22: 'goals.',\n",
       " 23: 'humans',\n",
       " 24: 'in',\n",
       " 25: 'intelligence',\n",
       " 26: 'intelligence,',\n",
       " 27: 'intelligent',\n",
       " 28: 'is',\n",
       " 29: 'its',\n",
       " 30: 'machine',\n",
       " 31: 'machines,',\n",
       " 32: 'maximize',\n",
       " 33: 'natural',\n",
       " 34: 'of',\n",
       " 35: 'perceives',\n",
       " 36: 'research',\n",
       " 37: 'science',\n",
       " 38: 'science,',\n",
       " 39: 'sometimes',\n",
       " 40: 'study',\n",
       " 41: 'successfully',\n",
       " 42: 'takes',\n",
       " 43: 'that',\n",
       " 44: 'the',\n",
       " 45: 'to'}"
      ]
     },
     "execution_count": 26,
     "metadata": {},
     "output_type": "execute_result"
    }
   ],
   "source": [
    "Id2Token = {v:k for k,v in gensim_dictionary.token2id.items()}\n",
    "Id2Token"
   ]
  },
  {
   "cell_type": "code",
   "execution_count": 27,
   "metadata": {
    "colab": {
     "base_uri": "https://localhost:8080/",
     "height": 35
    },
    "id": "xobmtj2nZozO",
    "outputId": "c75a4130-a878-4fe4-999c-28f77985e43a"
   },
   "outputs": [
    {
     "data": {
      "application/vnd.google.colaboratory.intrinsic+json": {
       "type": "string"
      },
      "text/plain": [
       "'study'"
      ]
     },
     "execution_count": 27,
     "metadata": {},
     "output_type": "execute_result"
    }
   ],
   "source": [
    "Id2Token[40]"
   ]
  },
  {
   "cell_type": "code",
   "execution_count": 28,
   "metadata": {
    "colab": {
     "base_uri": "https://localhost:8080/"
    },
    "id": "QT_Au4A-VDiF",
    "outputId": "748a2c13-6e8b-4ae3-b321-a37b9ca590d1"
   },
   "outputs": [
    {
     "name": "stdout",
     "output_type": "stream",
     "text": [
      "The dictionary has: 65 tokens\n",
      "{'(AI),': 0, 'AI': 1, 'Computer': 2, 'In': 3, 'achieving': 4, 'actions': 5, 'agents:': 6, 'and': 7, 'animals.': 8, 'any': 9, 'artificial': 10, 'as': 11, 'by': 12, 'called': 13, 'chance': 14, 'computer': 15, 'contrast': 16, 'defines': 17, 'demonstrated': 18, 'device': 19, 'displayed': 20, 'environment': 21, 'goals.': 22, 'humans': 23, 'in': 24, 'intelligence': 25, 'intelligence,': 26, 'intelligent': 27, 'is': 28, 'its': 29, 'machine': 30, 'machines,': 31, 'maximize': 32, 'natural': 33, 'of': 34, 'perceives': 35, 'research': 36, 'science': 37, 'science,': 38, 'sometimes': 39, 'study': 40, 'successfully': 41, 'takes': 42, 'that': 43, 'the': 44, 'to': 45, '\"artificial': 46, '\"cognitive\"': 47, '\"learning\"': 48, '\"problem': 49, 'Colloquially,': 50, 'associate': 51, 'describe': 52, 'functions': 53, 'human': 54, 'intelligence\"': 55, 'machines': 56, 'mimic': 57, 'minds,': 58, 'other': 59, 'solving': 60, 'such': 61, 'term': 62, 'used': 63, 'with': 64}\n"
     ]
    }
   ],
   "source": [
    "text = [\"\"\"Colloquially, the term \"artificial intelligence\" is used to\n",
    "           describe machines that mimic \"cognitive\" functions that humans\n",
    "           associate with other human minds, such as \"learning\" and \"problem solving\"\"\"]\n",
    "\n",
    "tokens = [[token for token in sentence.split()] for sentence in text]\n",
    "gensim_dictionary.add_documents(tokens)\n",
    "\n",
    "print(\"The dictionary has: \" + str(len(gensim_dictionary)) + \" tokens\")\n",
    "print(gensim_dictionary.token2id)"
   ]
  },
  {
   "cell_type": "code",
   "execution_count": 8,
   "metadata": {
    "colab": {
     "base_uri": "https://localhost:8080/"
    },
    "id": "lN8Tf-FSVFrd",
    "outputId": "3b6f1727-44a9-4dac-84ef-e417f8909c4b"
   },
   "outputs": [
    {
     "name": "stdout",
     "output_type": "stream",
     "text": [
      "{'global': 0, 'warming': 1, 'is': 2, 'long': 3, 'term': 4, 'rise': 5, 'in': 6, 'the': 7, 'average': 8, 'temperature': 9, 'of': 10, 'earth': 11, 'climate': 12, 'system': 13, 'an': 14, 'aspect': 15, 'change': 16, 'shown': 17, 'by': 18, 'measurements': 19, 'and': 20, 'multiple': 21, 'effects': 22, 'though': 23, 'earlier': 24, 'geological': 25, 'periods': 26, 'also': 27, 'experienced': 28, 'episodes': 29, 'commonly': 30, 'refers': 31, 'to': 32, 'observed': 33, 'continuing': 34, 'increase': 35, 'air': 36, 'ocean': 37, 'temperatures': 38, 'since': 39, 'caused': 40, 'mainly': 41, 'emissions': 42, 'greenhouse': 43, 'gasses': 44, 'modern': 45, 'industrial': 46, 'economy': 47}\n"
     ]
    }
   ],
   "source": [
    "Phrases = \"Global warming is a long-term rise in the average temperature of the Earth's climate system, an aspect of climate change shown by temperature measurements and by multiple effects of the warming. Though earlier geological periods also experienced episodes of warming, the term commonly refers to the observed and continuing increase in average air and ocean temperatures since 1900 caused mainly by emissions of greenhouse gasses in the modern industrial economy.\"\n",
    "gensim_dictionary = corpora.Dictionary(simple_preprocess(sentence, deacc=True) for sentence in Phrases.split())\n",
    "\n",
    "print(gensim_dictionary.token2id)"
   ]
  },
  {
   "cell_type": "code",
   "execution_count": 9,
   "metadata": {
    "colab": {
     "base_uri": "https://localhost:8080/"
    },
    "id": "eKezrDslVJU9",
    "outputId": "a6c68738-a3dc-49e7-fb01-0e867abea0c3"
   },
   "outputs": [
    {
     "name": "stdout",
     "output_type": "stream",
     "text": [
      "[[(0, 1), (1, 1), (2, 1), (3, 1), (4, 1), (5, 1), (6, 1), (7, 2), (8, 1), (9, 1), (10, 1), (11, 1), (12, 2), (13, 1), (14, 1), (15, 1), (16, 1), (17, 1), (18, 1), (19, 1), (20, 1), (21, 1), (22, 1), (23, 1), (24, 1), (25, 3), (26, 1), (27, 1), (28, 1), (29, 3), (30, 1), (31, 1), (32, 1), (33, 1), (34, 2), (35, 1), (36, 1), (37, 1), (38, 1), (39, 1), (40, 1), (41, 1), (42, 1), (43, 2), (44, 2), (45, 1)]]\n"
     ]
    }
   ],
   "source": [
    "text = [\"\"\"In computer science, artificial intelligence (AI),\n",
    "           sometimes called machine intelligence, is intelligence\n",
    "           demonstrated by machines, in contrast to the natural intelligence\n",
    "           displayed by humans and animals. Computer science defines\n",
    "           AI research as the study of intelligent agents: any device that\n",
    "           perceives its environment and takes actions that maximize its chance\n",
    "           of successfully achieving its goals.\"\"\"]\n",
    "\n",
    "tokens = [[token for token in sentence.split()] for sentence in text]\n",
    "\n",
    "gensim_dictionary = corpora.Dictionary()\n",
    "gensim_corpus = [gensim_dictionary.doc2bow(token, allow_update=True) for token in tokens]\n",
    "\n",
    "print(gensim_corpus)"
   ]
  },
  {
   "cell_type": "code",
   "execution_count": 10,
   "metadata": {
    "colab": {
     "base_uri": "https://localhost:8080/"
    },
    "id": "tQPWu_PTVlyF",
    "outputId": "4b920319-07f4-4885-abe6-7ad6eff896dd"
   },
   "outputs": [
    {
     "name": "stdout",
     "output_type": "stream",
     "text": [
      "[[('(AI),', 1), ('AI', 1), ('Computer', 1), ('In', 1), ('achieving', 1), ('actions', 1), ('agents:', 1), ('and', 2), ('animals.', 1), ('any', 1), ('artificial', 1), ('as', 1), ('by', 2), ('called', 1), ('chance', 1), ('computer', 1), ('contrast', 1), ('defines', 1), ('demonstrated', 1), ('device', 1), ('displayed', 1), ('environment', 1), ('goals.', 1), ('humans', 1), ('in', 1), ('intelligence', 3), ('intelligence,', 1), ('intelligent', 1), ('is', 1), ('its', 3), ('machine', 1), ('machines,', 1), ('maximize', 1), ('natural', 1), ('of', 2), ('perceives', 1), ('research', 1), ('science', 1), ('science,', 1), ('sometimes', 1), ('study', 1), ('successfully', 1), ('takes', 1), ('that', 2), ('the', 2), ('to', 1)]]\n"
     ]
    }
   ],
   "source": [
    "word_frequencies = [[(gensim_dictionary[id], frequence) for id, frequence in couple] for couple in gensim_corpus]\n",
    "print(word_frequencies)"
   ]
  },
  {
   "cell_type": "code",
   "execution_count": 29,
   "metadata": {
    "colab": {
     "base_uri": "https://localhost:8080/"
    },
    "id": "6WIip1aVaOOn",
    "outputId": "05515259-94de-4d44-bdb9-afec9da93dd8"
   },
   "outputs": [
    {
     "data": {
      "text/plain": [
       "[['global'],\n",
       " ['warming'],\n",
       " ['is'],\n",
       " [],\n",
       " ['long', 'term'],\n",
       " ['rise'],\n",
       " ['in'],\n",
       " ['the'],\n",
       " ['average'],\n",
       " ['temperature'],\n",
       " ['of'],\n",
       " ['the'],\n",
       " ['earth'],\n",
       " ['climate'],\n",
       " ['system'],\n",
       " ['an'],\n",
       " ['aspect'],\n",
       " ['of'],\n",
       " ['climate'],\n",
       " ['change'],\n",
       " ['shown'],\n",
       " ['by'],\n",
       " ['temperature'],\n",
       " ['measurements'],\n",
       " ['and'],\n",
       " ['by'],\n",
       " ['multiple'],\n",
       " ['effects'],\n",
       " ['of'],\n",
       " ['the'],\n",
       " ['warming'],\n",
       " ['though'],\n",
       " ['earlier'],\n",
       " ['geological'],\n",
       " ['periods'],\n",
       " ['also'],\n",
       " ['experienced'],\n",
       " ['episodes'],\n",
       " ['of'],\n",
       " ['warming'],\n",
       " ['the'],\n",
       " ['term'],\n",
       " ['commonly'],\n",
       " ['refers'],\n",
       " ['to'],\n",
       " ['the'],\n",
       " ['observed'],\n",
       " ['and'],\n",
       " ['continuing'],\n",
       " ['increase'],\n",
       " ['in'],\n",
       " ['average'],\n",
       " ['air'],\n",
       " ['and'],\n",
       " ['ocean'],\n",
       " ['temperatures'],\n",
       " ['since'],\n",
       " [],\n",
       " ['caused'],\n",
       " ['mainly'],\n",
       " ['by'],\n",
       " ['emissions'],\n",
       " ['of'],\n",
       " ['greenhouse'],\n",
       " ['gasses'],\n",
       " ['in'],\n",
       " ['the'],\n",
       " ['modern'],\n",
       " ['industrial'],\n",
       " ['economy']]"
      ]
     },
     "execution_count": 29,
     "metadata": {},
     "output_type": "execute_result"
    }
   ],
   "source": [
    "Text = \"\"\"\n",
    "Global warming is a long-term rise in the average temperature of the Earth's climate system, an aspect of climate change shown by temperature measurements and by multiple effects of the warming. \n",
    "Though earlier geological periods also experienced episodes of warming, the term commonly refers to the observed and continuing increase in average air and ocean temperatures since 1900 caused mainly \n",
    "by emissions of greenhouse gasses in the modern industrial economy.\n",
    "\n",
    "\"\"\"\n",
    "\n",
    "tokens = [simple_preprocess(sentence, deacc=True) for sentence in Text.split()]\n",
    "\n",
    "tokens"
   ]
  },
  {
   "cell_type": "code",
   "execution_count": 30,
   "metadata": {
    "colab": {
     "base_uri": "https://localhost:8080/"
    },
    "id": "c17Y0qOWaTYd",
    "outputId": "b6dfed96-b215-4abc-fd6c-cc337cb31a18"
   },
   "outputs": [
    {
     "data": {
      "text/plain": [
       "[[(0, 1)],\n",
       " [(1, 1)],\n",
       " [(2, 1)],\n",
       " [],\n",
       " [(3, 1), (4, 1)],\n",
       " [(5, 1)],\n",
       " [(6, 1)],\n",
       " [(7, 1)],\n",
       " [(8, 1)],\n",
       " [(9, 1)],\n",
       " [(10, 1)],\n",
       " [(7, 1)],\n",
       " [(11, 1)],\n",
       " [(12, 1)],\n",
       " [(13, 1)],\n",
       " [(14, 1)],\n",
       " [(15, 1)],\n",
       " [(10, 1)],\n",
       " [(12, 1)],\n",
       " [(16, 1)],\n",
       " [(17, 1)],\n",
       " [(18, 1)],\n",
       " [(9, 1)],\n",
       " [(19, 1)],\n",
       " [(20, 1)],\n",
       " [(18, 1)],\n",
       " [(21, 1)],\n",
       " [(22, 1)],\n",
       " [(10, 1)],\n",
       " [(7, 1)],\n",
       " [(1, 1)],\n",
       " [(23, 1)],\n",
       " [(24, 1)],\n",
       " [(25, 1)],\n",
       " [(26, 1)],\n",
       " [(27, 1)],\n",
       " [(28, 1)],\n",
       " [(29, 1)],\n",
       " [(10, 1)],\n",
       " [(1, 1)],\n",
       " [(7, 1)],\n",
       " [(4, 1)],\n",
       " [(30, 1)],\n",
       " [(31, 1)],\n",
       " [(32, 1)],\n",
       " [(7, 1)],\n",
       " [(33, 1)],\n",
       " [(20, 1)],\n",
       " [(34, 1)],\n",
       " [(35, 1)],\n",
       " [(6, 1)],\n",
       " [(8, 1)],\n",
       " [(36, 1)],\n",
       " [(20, 1)],\n",
       " [(37, 1)],\n",
       " [(38, 1)],\n",
       " [(39, 1)],\n",
       " [],\n",
       " [(40, 1)],\n",
       " [(41, 1)],\n",
       " [(18, 1)],\n",
       " [(42, 1)],\n",
       " [(10, 1)],\n",
       " [(43, 1)],\n",
       " [(44, 1)],\n",
       " [(6, 1)],\n",
       " [(7, 1)],\n",
       " [(45, 1)],\n",
       " [(46, 1)],\n",
       " [(47, 1)]]"
      ]
     },
     "execution_count": 30,
     "metadata": {},
     "output_type": "execute_result"
    }
   ],
   "source": [
    "gensim_dictionary = corpora.Dictionary()\n",
    "gensim_corpus = [gensim_dictionary.doc2bow(token, allow_update=True) for token in tokens]\n",
    "gensim_corpus"
   ]
  },
  {
   "cell_type": "code",
   "execution_count": 31,
   "metadata": {
    "colab": {
     "base_uri": "https://localhost:8080/"
    },
    "id": "_OJ9JptLVn-l",
    "outputId": "a73f1041-62b2-4119-fcf9-76e301cf2802"
   },
   "outputs": [
    {
     "name": "stdout",
     "output_type": "stream",
     "text": [
      "[[('global', 1)], [('warming', 1)], [('is', 1)], [], [('long', 1), ('term', 1)], [('rise', 1)], [('in', 1)], [('the', 1)], [('average', 1)], [('temperature', 1)], [('of', 1)], [('the', 1)], [('earth', 1)], [('climate', 1)], [('system', 1)], [('an', 1)], [('aspect', 1)], [('of', 1)], [('climate', 1)], [('change', 1)], [('shown', 1)], [('by', 1)], [('temperature', 1)], [('measurements', 1)], [('and', 1)], [('by', 1)], [('multiple', 1)], [('effects', 1)], [('of', 1)], [('the', 1)], [('warming', 1)], [('though', 1)], [('earlier', 1)], [('geological', 1)], [('periods', 1)], [('also', 1)], [('experienced', 1)], [('episodes', 1)], [('of', 1)], [('warming', 1)], [('the', 1)], [('term', 1)], [('commonly', 1)], [('refers', 1)], [('to', 1)], [('the', 1)], [('observed', 1)], [('and', 1)], [('continuing', 1)], [('increase', 1)], [('in', 1)], [('average', 1)], [('air', 1)], [('and', 1)], [('ocean', 1)], [('temperatures', 1)], [('since', 1)], [], [('caused', 1)], [('mainly', 1)], [('by', 1)], [('emissions', 1)], [('of', 1)], [('greenhouse', 1)], [('gasses', 1)], [('in', 1)], [('the', 1)], [('modern', 1)], [('industrial', 1)], [('economy', 1)]]\n"
     ]
    }
   ],
   "source": [
    "word_frequencies = [[(gensim_dictionary[id], frequence) for id, frequence in couple] for couple in gensim_corpus]\n",
    "\n",
    "print(word_frequencies)"
   ]
  },
  {
   "cell_type": "code",
   "execution_count": 32,
   "metadata": {
    "colab": {
     "base_uri": "https://localhost:8080/"
    },
    "id": "cqLJzWTpa87s",
    "outputId": "823c0309-8226-403c-cb6b-6aacbd275c3e"
   },
   "outputs": [
    {
     "data": {
      "text/plain": [
       "[[(0, 1), (1, 1), (2, 1), (3, 1), (4, 1)],\n",
       " [(0, 1), (5, 1), (6, 1), (7, 1), (8, 1)],\n",
       " [(2, 1), (3, 1), (4, 1), (6, 1), (9, 1), (10, 1), (11, 1), (12, 1)]]"
      ]
     },
     "execution_count": 32,
     "metadata": {},
     "output_type": "execute_result"
    }
   ],
   "source": [
    "text = [\"I like to play Football\",\n",
    "       \"Football is the best game\",\n",
    "       \"Which game do you like to play ?\"]\n",
    "\n",
    "tokens = [[token for token in sentence.split()] for sentence in text]\n",
    "\n",
    "gensim_dictionary = corpora.Dictionary()\n",
    "gensim_corpus = [gensim_dictionary.doc2bow(token, allow_update=True) for token in tokens]\n",
    "gensim_corpus"
   ]
  },
  {
   "cell_type": "code",
   "execution_count": 12,
   "metadata": {
    "colab": {
     "base_uri": "https://localhost:8080/"
    },
    "id": "NP_WLnOiVqX_",
    "outputId": "b9738767-ebb5-4214-c847-4bd033be265e"
   },
   "outputs": [
    {
     "name": "stdout",
     "output_type": "stream",
     "text": [
      "[['Football', 0.3], ['I', 0.8], ['like', 0.3], ['play', 0.3], ['to', 0.3]]\n",
      "[['Football', 0.2], ['best', 0.55], ['game', 0.2], ['is', 0.55], ['the', 0.55]]\n",
      "[['like', 0.17], ['play', 0.17], ['to', 0.17], ['game', 0.17], ['?', 0.47], ['Which', 0.47], ['do', 0.47], ['you', 0.47]]\n"
     ]
    }
   ],
   "source": [
    "tfidf = models.TfidfModel(gensim_corpus, smartirs='ntc')\n",
    "\n",
    "for sent in tfidf[gensim_corpus]:\n",
    "    print([[gensim_dictionary[id], np.around(frequency, decimals=2)] for id, frequency in sent])"
   ]
  },
  {
   "cell_type": "code",
   "execution_count": 13,
   "metadata": {
    "id": "3tlCTVm0V5yr"
   },
   "outputs": [],
   "source": [
    "w2v_embedding = api.load(\"glove-wiki-gigaword-100\")"
   ]
  },
  {
   "cell_type": "code",
   "execution_count": 14,
   "metadata": {
    "colab": {
     "base_uri": "https://localhost:8080/"
    },
    "id": "em_GPMdkV8f9",
    "outputId": "0ad8aa0a-c8b6-4c54-be7d-6e812cc8281e"
   },
   "outputs": [
    {
     "data": {
      "text/plain": [
       "[('honda', 0.8739858865737915),\n",
       " ('nissan', 0.8108116984367371),\n",
       " ('automaker', 0.7918164134025574),\n",
       " ('mazda', 0.7687169313430786),\n",
       " ('bmw', 0.7616021633148193),\n",
       " ('ford', 0.7547588348388672),\n",
       " ('motors', 0.7539199590682983),\n",
       " ('volkswagen', 0.7176680564880371),\n",
       " ('prius', 0.7156583070755005),\n",
       " ('chrysler', 0.7085399031639099)]"
      ]
     },
     "execution_count": 14,
     "metadata": {},
     "output_type": "execute_result"
    }
   ],
   "source": [
    "w2v_embedding.most_similar('toyota')"
   ]
  },
  {
   "cell_type": "code",
   "execution_count": 33,
   "metadata": {
    "colab": {
     "base_uri": "https://localhost:8080/"
    },
    "id": "KUKM0519V_EU",
    "outputId": "6f032d85-3c41-4523-b090-7a678d17dac3"
   },
   "outputs": [
    {
     "data": {
      "text/plain": [
       "[('mars', 0.7473292946815491),\n",
       " ('earth', 0.6876445412635803),\n",
       " ('lunar', 0.6544982194900513),\n",
       " ('orbit', 0.6357479691505432),\n",
       " ('planet', 0.6345553398132324),\n",
       " ('sun', 0.6138352155685425),\n",
       " ('jupiter', 0.6071267127990723),\n",
       " ('spacecraft', 0.5957037210464478),\n",
       " ('dragon', 0.5788332223892212),\n",
       " ('sky', 0.5767096281051636)]"
      ]
     },
     "execution_count": 33,
     "metadata": {},
     "output_type": "execute_result"
    }
   ],
   "source": [
    "w2v_embedding.most_similar('moon')"
   ]
  },
  {
   "cell_type": "code",
   "execution_count": 50,
   "metadata": {
    "colab": {
     "base_uri": "https://localhost:8080/"
    },
    "id": "yW1sUzKZbQoA",
    "outputId": "7f35cfb0-0c26-4c69-9216-28d0054a50ba"
   },
   "outputs": [
    {
     "data": {
      "text/plain": [
       "0.6372661292552948"
      ]
     },
     "execution_count": 50,
     "metadata": {},
     "output_type": "execute_result"
    }
   ],
   "source": [
    "w2v_embedding.distance('house','horse')"
   ]
  },
  {
   "cell_type": "code",
   "execution_count": 49,
   "metadata": {
    "colab": {
     "base_uri": "https://localhost:8080/"
    },
    "id": "MxOX3PN3bW7k",
    "outputId": "f1caea10-f301-4a60-ac1c-1da2bf3a2a54"
   },
   "outputs": [
    {
     "data": {
      "text/plain": [
       "0.327968955039978"
      ]
     },
     "execution_count": 49,
     "metadata": {},
     "output_type": "execute_result"
    }
   ],
   "source": [
    "w2v_embedding.distance('house','home')"
   ]
  },
  {
   "cell_type": "code",
   "execution_count": 52,
   "metadata": {
    "colab": {
     "base_uri": "https://localhost:8080/"
    },
    "id": "QGP9vRh1bXfk",
    "outputId": "c612aca9-036e-48de-d287-948f844b85db"
   },
   "outputs": [
    {
     "data": {
      "text/plain": [
       "0.1201925277709961"
      ]
     },
     "execution_count": 52,
     "metadata": {},
     "output_type": "execute_result"
    }
   ],
   "source": [
    "w2v_embedding.distance('cat','dog')"
   ]
  },
  {
   "cell_type": "code",
   "execution_count": 54,
   "metadata": {
    "id": "z0_2dQjIb_6s"
   },
   "outputs": [],
   "source": [
    "#w2v_embedding.distance('كلب','قط')"
   ]
  },
  {
   "cell_type": "code",
   "execution_count": null,
   "metadata": {
    "id": "63hZGGBucFUM"
   },
   "outputs": [],
   "source": []
  },
  {
   "cell_type": "code",
   "execution_count": null,
   "metadata": {
    "id": "UymAqgEOjRd1"
   },
   "outputs": [],
   "source": []
  }
 ],
 "metadata": {
  "colab": {
   "name": "8.8.1 Gensim.ipynb",
   "provenance": []
  },
  "kernelspec": {
   "display_name": "Python 3 (ipykernel)",
   "language": "python",
   "name": "python3"
  },
  "language_info": {
   "codemirror_mode": {
    "name": "ipython",
    "version": 3
   },
   "file_extension": ".py",
   "mimetype": "text/x-python",
   "name": "python",
   "nbconvert_exporter": "python",
   "pygments_lexer": "ipython3",
   "version": "3.8.8"
  }
 },
 "nbformat": 4,
 "nbformat_minor": 1
}
