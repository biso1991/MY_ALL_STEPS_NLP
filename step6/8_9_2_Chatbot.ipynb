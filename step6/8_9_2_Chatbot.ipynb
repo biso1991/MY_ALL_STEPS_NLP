{
  "cells": [
    {
      "cell_type": "code",
      "execution_count": null,
      "metadata": {
        "colab": {
          "base_uri": "https://localhost:8080/"
        },
        "id": "0zk8tjL9n1YF",
        "outputId": "d795491b-4549-4cc3-b98a-f55baa09cab5"
      },
      "outputs": [
        {
          "name": "stdout",
          "output_type": "stream",
          "text": [
            "Requirement already satisfied: nltk in /usr/local/lib/python3.7/dist-packages (3.2.5)\n",
            "Requirement already satisfied: six in /usr/local/lib/python3.7/dist-packages (from nltk) (1.15.0)\n"
          ]
        }
      ],
      "source": [
        "pip install nltk"
      ]
    },
    {
      "cell_type": "code",
      "execution_count": null,
      "metadata": {
        "id": "WtSmzhMgoPuw"
      },
      "outputs": [],
      "source": [
        "import nltk\n",
        "from nltk.chat.util import Chat, reflections"
      ]
    },
    {
      "cell_type": "code",
      "execution_count": null,
      "metadata": {
        "id": "UiTmgqoKoeop"
      },
      "outputs": [],
      "source": [
        "reflections = {\n",
        "  \"i am\"       : \"you are\",\n",
        "  \"i was\"      : \"you were\",\n",
        "  \"i\"          : \"you\",\n",
        "  \"i'm\"        : \"you are\",\n",
        "  \"i'd\"        : \"you would\",\n",
        "  \"i've\"       : \"you have\",\n",
        "  \"i'll\"       : \"you will\",\n",
        "  \"my\"         : \"your\",\n",
        "  \"you are\"    : \"I am\",\n",
        "  \"you were\"   : \"I was\",\n",
        "  \"you've\"     : \"I have\",\n",
        "  \"you'll\"     : \"I will\",\n",
        "  \"your\"       : \"my\",\n",
        "  \"yours\"      : \"mine\",\n",
        "  \"you\"        : \"me\",\n",
        "  \"me\"         : \"you\"\n",
        "}"
      ]
    },
    {
      "cell_type": "code",
      "execution_count": null,
      "metadata": {
        "id": "QxdI0lScogea"
      },
      "outputs": [],
      "source": [
        "pairs = [\n",
        "    [        r\"my name is (.*)\",        [\"Hello %1, How are you today ?\",]    ],\n",
        "    [        r\"hi|hey|hello\",        [\"Hello\", \"Hey there\",]    ], \n",
        "    [        r\"what is your name ?\",        [\"I am a bot. you can call me crazy!\",]    ],\n",
        "    [        r\"how are you ?\",        [\"I'm doing goodnHow about You ?\",]    ],\n",
        "    [        r\"sorry (.*)\",        [\"Its alright\",\"Its OK, never mind\",]    ],\n",
        "    [        r\"I am fine\",        [\"Great to hear that, How can I help you?\",]    ],\n",
        "    [        r\"i'm (.*) doing good\",        [\"Nice to hear that\",\"How can I help you?:)\",]    ],\n",
        "    [        r\"(.*) age?\",        [\"I'm a computer program dudenSeriously you are asking me this?\",]    ],\n",
        "    [        r\"what (.*) want ?\",        [\"Make me an offer I can't refuse\",]    ],\n",
        "    [        r\"(.*) created ?\",        [\"Raghav created me using Python's NLTK library \",\"top secret ;)\",]    ],\n",
        "    [        r\"(.*) (location|city) ?\",        ['Indore, Madhya Pradesh',]    ],\n",
        "    [        r\"how is weather in (.*)?\",        [\"Weather in %1 is awesome like always\",\"Too hot man here in %1\",\"Too cold man here in %1\",\"Never even heard about %1\"]    ],\n",
        "    [        r\"i work in (.*)?\",        [\"%1 is an Amazing company, I have heard about it. But they are in huge loss these days.\",]    ],\n",
        "    [        r\"(.*)raining in (.*)\",        [\"No rain since last week here in %2\",\"Damn its raining too much here in %2\"]    ],\n",
        "    [        r\"how (.*) health(.*)\",        [\"I'm a computer program, so I'm always healthy \",]    ],\n",
        "    [        r\"(.*) (sports|game) ?\",        [\"I'm a very big fan of Football\",]    ],\n",
        "    [        r\"who (.*) sportsperson ?\",        [\"Messy\",\"Ronaldo\",\"Roony\"]    ],\n",
        "    [        r\"who (.*) (moviestar|actor)?\",        [\"Brad Pitt\"]    ],\n",
        "    [        r\"i am looking for online guides and courses to learn data science, can you suggest?\",        [\"Crazy_Tech has many great articles with each step explanation along with code, you can explore\"]    ],\n",
        "    [        r\"quit\",        [\"BBye take care. See you soon :) \",\"It was nice talking to you. See you soon :)\"]    ],\n",
        "]"
      ]
    },
    {
      "cell_type": "code",
      "execution_count": null,
      "metadata": {
        "colab": {
          "base_uri": "https://localhost:8080/"
        },
        "id": "HbGc3QYxokOC",
        "outputId": "f575ba6f-332b-425a-c7a4-a76786b5b2a1"
      },
      "outputs": [
        {
          "name": "stdout",
          "output_type": "stream",
          "text": [
            "Hi! I am a chatbot for your service\n",
            ">how are you doing ? \n",
            "I'm doing goodnHow about You ?\n",
            ">great\n",
            "None\n",
            ">thanks\n",
            "None\n",
            ">bye\n",
            "None\n",
            ">quit\n",
            "It was nice talking to you. See you soon :)\n"
          ]
        }
      ],
      "source": [
        "def chat():\n",
        "    print(\"Hi! I am a chatbot for your service\")\n",
        "    chat = Chat(pairs, reflections)\n",
        "    chat.converse()\n",
        "#initiate the conversation\n",
        "if __name__ == \"__main__\":\n",
        "    chat()"
      ]
    },
    {
      "cell_type": "code",
      "execution_count": 1,
      "metadata": {
        "id": "q996SKzNo5jJ"
      },
      "outputs": [
        {
          "ename": "NameError",
          "evalue": "name 'Hi' is not defined",
          "output_type": "error",
          "traceback": [
            "\u001b[0;31m---------------------------------------------------------------------------\u001b[0m",
            "\u001b[0;31mNameError\u001b[0m                                 Traceback (most recent call last)",
            "Cell \u001b[0;32mIn [1], line 1\u001b[0m\n\u001b[0;32m----> 1\u001b[0m \u001b[43mHi\u001b[49m\n",
            "\u001b[0;31mNameError\u001b[0m: name 'Hi' is not defined"
          ]
        }
      ],
      "source": [
        "Hi"
      ]
    }
  ],
  "metadata": {
    "colab": {
      "collapsed_sections": [],
      "name": "8.9.2 Chatbot.ipynb",
      "provenance": []
    },
    "kernelspec": {
      "display_name": "Python 3.8.10 64-bit",
      "language": "python",
      "name": "python3"
    },
    "language_info": {
      "codemirror_mode": {
        "name": "ipython",
        "version": 3
      },
      "file_extension": ".py",
      "mimetype": "text/x-python",
      "name": "python",
      "nbconvert_exporter": "python",
      "pygments_lexer": "ipython3",
      "version": "3.8.10 (default, Nov 14 2022, 12:59:47) \n[GCC 9.4.0]"
    },
    "vscode": {
      "interpreter": {
        "hash": "916dbcbb3f70747c44a77c7bcd40155683ae19c65e1c03b4aa3499c5328201f1"
      }
    }
  },
  "nbformat": 4,
  "nbformat_minor": 0
}
